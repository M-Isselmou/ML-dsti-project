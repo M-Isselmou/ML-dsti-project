{
 "cells": [
  {
   "cell_type": "code",
   "execution_count": 1,
   "metadata": {},
   "outputs": [],
   "source": [
    "import pandas as pd\n",
    "import seaborn as sns\n",
    "import numpy as np\n",
    "import plotly.express as px\n",
    "from matplotlib import pyplot as plt\n",
    "%matplotlib inline"
   ]
  },
  {
   "cell_type": "code",
   "execution_count": 2,
   "metadata": {},
   "outputs": [],
   "source": [
    "file_path = \"../datasets/winequality-red.csv\""
   ]
  },
  {
   "cell_type": "code",
   "execution_count": 3,
   "metadata": {},
   "outputs": [],
   "source": [
    "df = pd.read_csv(file_path)"
   ]
  },
  {
   "cell_type": "code",
   "execution_count": 4,
   "metadata": {},
   "outputs": [
    {
     "data": {
      "text/html": [
       "<div>\n",
       "<style scoped>\n",
       "    .dataframe tbody tr th:only-of-type {\n",
       "        vertical-align: middle;\n",
       "    }\n",
       "\n",
       "    .dataframe tbody tr th {\n",
       "        vertical-align: top;\n",
       "    }\n",
       "\n",
       "    .dataframe thead th {\n",
       "        text-align: right;\n",
       "    }\n",
       "</style>\n",
       "<table border=\"1\" class=\"dataframe\">\n",
       "  <thead>\n",
       "    <tr style=\"text-align: right;\">\n",
       "      <th></th>\n",
       "      <th>fixed acidity</th>\n",
       "      <th>volatile acidity</th>\n",
       "      <th>citric acid</th>\n",
       "      <th>residual sugar</th>\n",
       "      <th>chlorides</th>\n",
       "      <th>free sulfur dioxide</th>\n",
       "      <th>total sulfur dioxide</th>\n",
       "      <th>density</th>\n",
       "      <th>pH</th>\n",
       "      <th>sulphates</th>\n",
       "      <th>alcohol</th>\n",
       "      <th>quality</th>\n",
       "    </tr>\n",
       "  </thead>\n",
       "  <tbody>\n",
       "    <tr>\n",
       "      <th>0</th>\n",
       "      <td>7.4</td>\n",
       "      <td>0.700</td>\n",
       "      <td>0.00</td>\n",
       "      <td>1.9</td>\n",
       "      <td>0.076</td>\n",
       "      <td>11.0</td>\n",
       "      <td>34.0</td>\n",
       "      <td>0.99780</td>\n",
       "      <td>3.51</td>\n",
       "      <td>0.56</td>\n",
       "      <td>9.4</td>\n",
       "      <td>5</td>\n",
       "    </tr>\n",
       "    <tr>\n",
       "      <th>1</th>\n",
       "      <td>7.8</td>\n",
       "      <td>0.880</td>\n",
       "      <td>0.00</td>\n",
       "      <td>2.6</td>\n",
       "      <td>0.098</td>\n",
       "      <td>25.0</td>\n",
       "      <td>67.0</td>\n",
       "      <td>0.99680</td>\n",
       "      <td>3.20</td>\n",
       "      <td>0.68</td>\n",
       "      <td>9.8</td>\n",
       "      <td>5</td>\n",
       "    </tr>\n",
       "    <tr>\n",
       "      <th>2</th>\n",
       "      <td>7.8</td>\n",
       "      <td>0.760</td>\n",
       "      <td>0.04</td>\n",
       "      <td>2.3</td>\n",
       "      <td>0.092</td>\n",
       "      <td>15.0</td>\n",
       "      <td>54.0</td>\n",
       "      <td>0.99700</td>\n",
       "      <td>3.26</td>\n",
       "      <td>0.65</td>\n",
       "      <td>9.8</td>\n",
       "      <td>5</td>\n",
       "    </tr>\n",
       "    <tr>\n",
       "      <th>3</th>\n",
       "      <td>11.2</td>\n",
       "      <td>0.280</td>\n",
       "      <td>0.56</td>\n",
       "      <td>1.9</td>\n",
       "      <td>0.075</td>\n",
       "      <td>17.0</td>\n",
       "      <td>60.0</td>\n",
       "      <td>0.99800</td>\n",
       "      <td>3.16</td>\n",
       "      <td>0.58</td>\n",
       "      <td>9.8</td>\n",
       "      <td>6</td>\n",
       "    </tr>\n",
       "    <tr>\n",
       "      <th>4</th>\n",
       "      <td>7.4</td>\n",
       "      <td>0.700</td>\n",
       "      <td>0.00</td>\n",
       "      <td>1.9</td>\n",
       "      <td>0.076</td>\n",
       "      <td>11.0</td>\n",
       "      <td>34.0</td>\n",
       "      <td>0.99780</td>\n",
       "      <td>3.51</td>\n",
       "      <td>0.56</td>\n",
       "      <td>9.4</td>\n",
       "      <td>5</td>\n",
       "    </tr>\n",
       "    <tr>\n",
       "      <th>...</th>\n",
       "      <td>...</td>\n",
       "      <td>...</td>\n",
       "      <td>...</td>\n",
       "      <td>...</td>\n",
       "      <td>...</td>\n",
       "      <td>...</td>\n",
       "      <td>...</td>\n",
       "      <td>...</td>\n",
       "      <td>...</td>\n",
       "      <td>...</td>\n",
       "      <td>...</td>\n",
       "      <td>...</td>\n",
       "    </tr>\n",
       "    <tr>\n",
       "      <th>1594</th>\n",
       "      <td>6.2</td>\n",
       "      <td>0.600</td>\n",
       "      <td>0.08</td>\n",
       "      <td>2.0</td>\n",
       "      <td>0.090</td>\n",
       "      <td>32.0</td>\n",
       "      <td>44.0</td>\n",
       "      <td>0.99490</td>\n",
       "      <td>3.45</td>\n",
       "      <td>0.58</td>\n",
       "      <td>10.5</td>\n",
       "      <td>5</td>\n",
       "    </tr>\n",
       "    <tr>\n",
       "      <th>1595</th>\n",
       "      <td>5.9</td>\n",
       "      <td>0.550</td>\n",
       "      <td>0.10</td>\n",
       "      <td>2.2</td>\n",
       "      <td>0.062</td>\n",
       "      <td>39.0</td>\n",
       "      <td>51.0</td>\n",
       "      <td>0.99512</td>\n",
       "      <td>3.52</td>\n",
       "      <td>0.76</td>\n",
       "      <td>11.2</td>\n",
       "      <td>6</td>\n",
       "    </tr>\n",
       "    <tr>\n",
       "      <th>1596</th>\n",
       "      <td>6.3</td>\n",
       "      <td>0.510</td>\n",
       "      <td>0.13</td>\n",
       "      <td>2.3</td>\n",
       "      <td>0.076</td>\n",
       "      <td>29.0</td>\n",
       "      <td>40.0</td>\n",
       "      <td>0.99574</td>\n",
       "      <td>3.42</td>\n",
       "      <td>0.75</td>\n",
       "      <td>11.0</td>\n",
       "      <td>6</td>\n",
       "    </tr>\n",
       "    <tr>\n",
       "      <th>1597</th>\n",
       "      <td>5.9</td>\n",
       "      <td>0.645</td>\n",
       "      <td>0.12</td>\n",
       "      <td>2.0</td>\n",
       "      <td>0.075</td>\n",
       "      <td>32.0</td>\n",
       "      <td>44.0</td>\n",
       "      <td>0.99547</td>\n",
       "      <td>3.57</td>\n",
       "      <td>0.71</td>\n",
       "      <td>10.2</td>\n",
       "      <td>5</td>\n",
       "    </tr>\n",
       "    <tr>\n",
       "      <th>1598</th>\n",
       "      <td>6.0</td>\n",
       "      <td>0.310</td>\n",
       "      <td>0.47</td>\n",
       "      <td>3.6</td>\n",
       "      <td>0.067</td>\n",
       "      <td>18.0</td>\n",
       "      <td>42.0</td>\n",
       "      <td>0.99549</td>\n",
       "      <td>3.39</td>\n",
       "      <td>0.66</td>\n",
       "      <td>11.0</td>\n",
       "      <td>6</td>\n",
       "    </tr>\n",
       "  </tbody>\n",
       "</table>\n",
       "<p>1599 rows × 12 columns</p>\n",
       "</div>"
      ],
      "text/plain": [
       "      fixed acidity  volatile acidity  citric acid  residual sugar  chlorides  \\\n",
       "0               7.4             0.700         0.00             1.9      0.076   \n",
       "1               7.8             0.880         0.00             2.6      0.098   \n",
       "2               7.8             0.760         0.04             2.3      0.092   \n",
       "3              11.2             0.280         0.56             1.9      0.075   \n",
       "4               7.4             0.700         0.00             1.9      0.076   \n",
       "...             ...               ...          ...             ...        ...   \n",
       "1594            6.2             0.600         0.08             2.0      0.090   \n",
       "1595            5.9             0.550         0.10             2.2      0.062   \n",
       "1596            6.3             0.510         0.13             2.3      0.076   \n",
       "1597            5.9             0.645         0.12             2.0      0.075   \n",
       "1598            6.0             0.310         0.47             3.6      0.067   \n",
       "\n",
       "      free sulfur dioxide  total sulfur dioxide  density    pH  sulphates  \\\n",
       "0                    11.0                  34.0  0.99780  3.51       0.56   \n",
       "1                    25.0                  67.0  0.99680  3.20       0.68   \n",
       "2                    15.0                  54.0  0.99700  3.26       0.65   \n",
       "3                    17.0                  60.0  0.99800  3.16       0.58   \n",
       "4                    11.0                  34.0  0.99780  3.51       0.56   \n",
       "...                   ...                   ...      ...   ...        ...   \n",
       "1594                 32.0                  44.0  0.99490  3.45       0.58   \n",
       "1595                 39.0                  51.0  0.99512  3.52       0.76   \n",
       "1596                 29.0                  40.0  0.99574  3.42       0.75   \n",
       "1597                 32.0                  44.0  0.99547  3.57       0.71   \n",
       "1598                 18.0                  42.0  0.99549  3.39       0.66   \n",
       "\n",
       "      alcohol  quality  \n",
       "0         9.4        5  \n",
       "1         9.8        5  \n",
       "2         9.8        5  \n",
       "3         9.8        6  \n",
       "4         9.4        5  \n",
       "...       ...      ...  \n",
       "1594     10.5        5  \n",
       "1595     11.2        6  \n",
       "1596     11.0        6  \n",
       "1597     10.2        5  \n",
       "1598     11.0        6  \n",
       "\n",
       "[1599 rows x 12 columns]"
      ]
     },
     "execution_count": 4,
     "metadata": {},
     "output_type": "execute_result"
    }
   ],
   "source": [
    "df"
   ]
  },
  {
   "cell_type": "code",
   "execution_count": 5,
   "metadata": {},
   "outputs": [
    {
     "data": {
      "text/html": [
       "<div>\n",
       "<style scoped>\n",
       "    .dataframe tbody tr th:only-of-type {\n",
       "        vertical-align: middle;\n",
       "    }\n",
       "\n",
       "    .dataframe tbody tr th {\n",
       "        vertical-align: top;\n",
       "    }\n",
       "\n",
       "    .dataframe thead th {\n",
       "        text-align: right;\n",
       "    }\n",
       "</style>\n",
       "<table border=\"1\" class=\"dataframe\">\n",
       "  <thead>\n",
       "    <tr style=\"text-align: right;\">\n",
       "      <th></th>\n",
       "      <th>fixed acidity</th>\n",
       "      <th>volatile acidity</th>\n",
       "      <th>citric acid</th>\n",
       "      <th>residual sugar</th>\n",
       "      <th>chlorides</th>\n",
       "      <th>free sulfur dioxide</th>\n",
       "      <th>total sulfur dioxide</th>\n",
       "      <th>density</th>\n",
       "      <th>pH</th>\n",
       "      <th>sulphates</th>\n",
       "      <th>alcohol</th>\n",
       "      <th>quality</th>\n",
       "    </tr>\n",
       "  </thead>\n",
       "  <tbody>\n",
       "    <tr>\n",
       "      <th>count</th>\n",
       "      <td>1599.000000</td>\n",
       "      <td>1599.000000</td>\n",
       "      <td>1599.000000</td>\n",
       "      <td>1599.000000</td>\n",
       "      <td>1599.000000</td>\n",
       "      <td>1599.000000</td>\n",
       "      <td>1599.000000</td>\n",
       "      <td>1599.000000</td>\n",
       "      <td>1599.000000</td>\n",
       "      <td>1599.000000</td>\n",
       "      <td>1599.000000</td>\n",
       "      <td>1599.000000</td>\n",
       "    </tr>\n",
       "    <tr>\n",
       "      <th>mean</th>\n",
       "      <td>8.319637</td>\n",
       "      <td>0.527821</td>\n",
       "      <td>0.270976</td>\n",
       "      <td>2.538806</td>\n",
       "      <td>0.087467</td>\n",
       "      <td>15.874922</td>\n",
       "      <td>46.467792</td>\n",
       "      <td>0.996747</td>\n",
       "      <td>3.311113</td>\n",
       "      <td>0.658149</td>\n",
       "      <td>10.422983</td>\n",
       "      <td>5.636023</td>\n",
       "    </tr>\n",
       "    <tr>\n",
       "      <th>std</th>\n",
       "      <td>1.741096</td>\n",
       "      <td>0.179060</td>\n",
       "      <td>0.194801</td>\n",
       "      <td>1.409928</td>\n",
       "      <td>0.047065</td>\n",
       "      <td>10.460157</td>\n",
       "      <td>32.895324</td>\n",
       "      <td>0.001887</td>\n",
       "      <td>0.154386</td>\n",
       "      <td>0.169507</td>\n",
       "      <td>1.065668</td>\n",
       "      <td>0.807569</td>\n",
       "    </tr>\n",
       "    <tr>\n",
       "      <th>min</th>\n",
       "      <td>4.600000</td>\n",
       "      <td>0.120000</td>\n",
       "      <td>0.000000</td>\n",
       "      <td>0.900000</td>\n",
       "      <td>0.012000</td>\n",
       "      <td>1.000000</td>\n",
       "      <td>6.000000</td>\n",
       "      <td>0.990070</td>\n",
       "      <td>2.740000</td>\n",
       "      <td>0.330000</td>\n",
       "      <td>8.400000</td>\n",
       "      <td>3.000000</td>\n",
       "    </tr>\n",
       "    <tr>\n",
       "      <th>25%</th>\n",
       "      <td>7.100000</td>\n",
       "      <td>0.390000</td>\n",
       "      <td>0.090000</td>\n",
       "      <td>1.900000</td>\n",
       "      <td>0.070000</td>\n",
       "      <td>7.000000</td>\n",
       "      <td>22.000000</td>\n",
       "      <td>0.995600</td>\n",
       "      <td>3.210000</td>\n",
       "      <td>0.550000</td>\n",
       "      <td>9.500000</td>\n",
       "      <td>5.000000</td>\n",
       "    </tr>\n",
       "    <tr>\n",
       "      <th>50%</th>\n",
       "      <td>7.900000</td>\n",
       "      <td>0.520000</td>\n",
       "      <td>0.260000</td>\n",
       "      <td>2.200000</td>\n",
       "      <td>0.079000</td>\n",
       "      <td>14.000000</td>\n",
       "      <td>38.000000</td>\n",
       "      <td>0.996750</td>\n",
       "      <td>3.310000</td>\n",
       "      <td>0.620000</td>\n",
       "      <td>10.200000</td>\n",
       "      <td>6.000000</td>\n",
       "    </tr>\n",
       "    <tr>\n",
       "      <th>75%</th>\n",
       "      <td>9.200000</td>\n",
       "      <td>0.640000</td>\n",
       "      <td>0.420000</td>\n",
       "      <td>2.600000</td>\n",
       "      <td>0.090000</td>\n",
       "      <td>21.000000</td>\n",
       "      <td>62.000000</td>\n",
       "      <td>0.997835</td>\n",
       "      <td>3.400000</td>\n",
       "      <td>0.730000</td>\n",
       "      <td>11.100000</td>\n",
       "      <td>6.000000</td>\n",
       "    </tr>\n",
       "    <tr>\n",
       "      <th>max</th>\n",
       "      <td>15.900000</td>\n",
       "      <td>1.580000</td>\n",
       "      <td>1.000000</td>\n",
       "      <td>15.500000</td>\n",
       "      <td>0.611000</td>\n",
       "      <td>72.000000</td>\n",
       "      <td>289.000000</td>\n",
       "      <td>1.003690</td>\n",
       "      <td>4.010000</td>\n",
       "      <td>2.000000</td>\n",
       "      <td>14.900000</td>\n",
       "      <td>8.000000</td>\n",
       "    </tr>\n",
       "  </tbody>\n",
       "</table>\n",
       "</div>"
      ],
      "text/plain": [
       "       fixed acidity  volatile acidity  citric acid  residual sugar  \\\n",
       "count    1599.000000       1599.000000  1599.000000     1599.000000   \n",
       "mean        8.319637          0.527821     0.270976        2.538806   \n",
       "std         1.741096          0.179060     0.194801        1.409928   \n",
       "min         4.600000          0.120000     0.000000        0.900000   \n",
       "25%         7.100000          0.390000     0.090000        1.900000   \n",
       "50%         7.900000          0.520000     0.260000        2.200000   \n",
       "75%         9.200000          0.640000     0.420000        2.600000   \n",
       "max        15.900000          1.580000     1.000000       15.500000   \n",
       "\n",
       "         chlorides  free sulfur dioxide  total sulfur dioxide      density  \\\n",
       "count  1599.000000          1599.000000           1599.000000  1599.000000   \n",
       "mean      0.087467            15.874922             46.467792     0.996747   \n",
       "std       0.047065            10.460157             32.895324     0.001887   \n",
       "min       0.012000             1.000000              6.000000     0.990070   \n",
       "25%       0.070000             7.000000             22.000000     0.995600   \n",
       "50%       0.079000            14.000000             38.000000     0.996750   \n",
       "75%       0.090000            21.000000             62.000000     0.997835   \n",
       "max       0.611000            72.000000            289.000000     1.003690   \n",
       "\n",
       "                pH    sulphates      alcohol      quality  \n",
       "count  1599.000000  1599.000000  1599.000000  1599.000000  \n",
       "mean      3.311113     0.658149    10.422983     5.636023  \n",
       "std       0.154386     0.169507     1.065668     0.807569  \n",
       "min       2.740000     0.330000     8.400000     3.000000  \n",
       "25%       3.210000     0.550000     9.500000     5.000000  \n",
       "50%       3.310000     0.620000    10.200000     6.000000  \n",
       "75%       3.400000     0.730000    11.100000     6.000000  \n",
       "max       4.010000     2.000000    14.900000     8.000000  "
      ]
     },
     "execution_count": 5,
     "metadata": {},
     "output_type": "execute_result"
    }
   ],
   "source": [
    "df.describe()"
   ]
  },
  {
   "cell_type": "code",
   "execution_count": 6,
   "metadata": {},
   "outputs": [
    {
     "data": {
      "text/plain": [
       "5    681\n",
       "6    638\n",
       "7    199\n",
       "4     53\n",
       "8     18\n",
       "3     10\n",
       "Name: quality, dtype: int64"
      ]
     },
     "execution_count": 6,
     "metadata": {},
     "output_type": "execute_result"
    }
   ],
   "source": [
    "df.quality.value_counts()"
   ]
  },
  {
   "cell_type": "code",
   "execution_count": 7,
   "metadata": {},
   "outputs": [
    {
     "data": {
      "text/plain": [
       "<seaborn.axisgrid.FacetGrid at 0x2067b7036d8>"
      ]
     },
     "execution_count": 7,
     "metadata": {},
     "output_type": "execute_result"
    },
    {
     "data": {
      "image/png": "[encoded data removed]",
      "text/plain": [
       "<Figure size 360x360 with 1 Axes>"
      ]
     },
     "metadata": {
      "needs_background": "light"
     },
     "output_type": "display_data"
    }
   ],
   "source": [
    "sns.displot(data=df,x=\"alcohol\")"
   ]
  },
  {
   "cell_type": "code",
   "execution_count": 8,
   "metadata": {},
   "outputs": [
    {
     "data": {
      "text/plain": [
       "<seaborn.axisgrid.FacetGrid at 0x2067babd630>"
      ]
     },
     "execution_count": 8,
     "metadata": {},
     "output_type": "execute_result"
    },
    {
     "data": {
      "image/png": "[encoded data removed]",
      "text/plain": [
       "<Figure size 360x360 with 1 Axes>"
      ]
     },
     "metadata": {
      "needs_background": "light"
     },
     "output_type": "display_data"
    }
   ],
   "source": [
    "sns.displot(data=df,x=\"quality\")"
   ]
  },
  {
   "cell_type": "code",
   "execution_count": 9,
   "metadata": {},
   "outputs": [
    {
     "data": {
      "text/plain": [
       "<matplotlib.axes._subplots.AxesSubplot at 0x2067bb7f7f0>"
      ]
     },
     "execution_count": 9,
     "metadata": {},
     "output_type": "execute_result"
    },
    {
     "data": {
      "image/png": "[encoded data removed]",
      "text/plain": [
       "<Figure size 432x288 with 1 Axes>"
      ]
     },
     "metadata": {
      "needs_background": "light"
     },
     "output_type": "display_data"
    }
   ],
   "source": [
    "sns.scatterplot(data=df,x=\"alcohol\",y=\"quality\")"
   ]
  },
  {
   "cell_type": "code",
   "execution_count": 10,
   "metadata": {},
   "outputs": [
    {
     "data": {
      "text/html": [
       "        <script type=\"text/javascript\">\n",
       "        window.PlotlyConfig = {MathJaxConfig: 'local'};\n",
       "        if (window.MathJax) {MathJax.Hub.Config({SVG: {font: \"STIX-Web\"}});}\n",
       "        if (typeof require !== 'undefined') {\n",
       "        require.undef(\"plotly\");\n",
       "        requirejs.config({\n",
       "            paths: {\n",
       "                'plotly': ['https://cdn.plot.ly/plotly-2.8.3.min']\n",
       "            }\n",
       "        });\n",
       "        require(['plotly'], function(Plotly) {\n",
       "            window._Plotly = Plotly;\n",
       "        });\n",
       "        }\n",
       "        </script>\n",
       "        "
      ]
     },
     "metadata": {},
     "output_type": "display_data"
    }
   ],
   "source": [
    "from plotly.offline import init_notebook_mode, iplot\n",
    "from plotly.graph_objs import *\n",
    "\n",
    "init_notebook_mode(connected=True)"
   ]
  },
  {
   "cell_type": "code",
   "execution_count": 11,
   "metadata": {},
   "outputs": [
    {
     "data": {
      "application/vnd.plotly.v1+json": {
       "config": {
        "plotlyServerURL": "https://plot.ly"
       },
       "data": [
        {
         "alignmentgroup": "True",
         "bingroup": "x",
         "hovertemplate": "quality=5<br>alcohol=%{x}<br>count=%{y}<extra></extra>",
         "legendgroup": "",
         "marker": {
          "color": "#636efa",
          "pattern": {
           "shape": ""
          }
         },
         "name": "",
         "offsetgroup": "",
         "orientation": "v",
         "showlegend": false,
         "type": "histogram",
         "x": [
          9.4,
          9.8,
          9.8,
          9.4,
          9.4,
          9.4,
          10.5,
          9.2,
          10.5,
          9.9,
          9.1,
          9.2,
          9.2,
          9.3,
          9.7,
          9.5,
          9.4,
          9.3,
          9.5,
          9.5,
          9.4,
          10.1,
          9.8,
          9.2,
          10.5,
          10.5,
          10.3,
          9.5,
          9.2,
          9.5,
          9.2,
          9.2,
          9.2,
          9.4,
          9.5,
          9.6,
          9.4,
          10,
          9.2,
          9.3,
          9.8,
          10.9,
          10.9,
          9.6,
          10.7,
          10.7,
          9.5,
          9.5,
          9.6,
          10.5,
          10.5,
          10.1,
          9.2,
          9.4,
          9.1,
          9.4,
          10.1,
          9.6,
          9.5,
          9,
          9.5,
          9.8,
          9.6,
          10.7,
          9.2,
          9.8,
          9.2,
          9.4,
          9.2,
          9.3,
          9.3,
          9.3,
          9.5,
          9.8,
          9.8,
          9.5,
          9,
          9.2,
          9.5,
          9.5,
          9.4,
          10.9,
          10.9,
          9.4,
          9.4,
          13,
          13,
          9.6,
          9.5,
          9.2,
          9.5,
          9.5,
          9.6,
          9.5,
          9.4,
          9.4,
          10,
          9.3,
          10.1,
          10.1,
          10.5,
          10.5,
          10.5,
          10.5,
          9.3,
          9.6,
          9.4,
          9.4,
          9.5,
          10.2,
          9.5,
          9.5,
          9.5,
          9.5,
          9.6,
          9.5,
          9.5,
          9.3,
          9.3,
          9.3,
          9.7,
          9.2,
          9.7,
          9.5,
          9.5,
          9.4,
          9.5,
          9.7,
          9.7,
          9.4,
          10.2,
          9.3,
          9.5,
          9.2,
          9.3,
          9.4,
          10.1,
          10.5,
          11,
          9.1,
          9.7,
          9.5,
          9.4,
          9.5,
          9.8,
          11,
          11,
          9.3,
          9.5,
          9.3,
          10.5,
          9.5,
          9.3,
          9.2,
          9.2,
          9.4,
          9.3,
          10,
          9.3,
          10.9,
          10.1,
          9.4,
          9.4,
          9.1,
          9.8,
          9.8,
          9.2,
          10.5,
          9.5,
          9.9,
          9.6,
          9.7,
          9.6,
          10,
          9.5,
          9.2,
          9.4,
          9.4,
          11,
          10.1,
          9.7,
          9.3,
          11.5,
          9.5,
          11,
          10.3,
          9.9,
          9.3,
          13,
          11,
          9.4,
          10,
          10.2,
          9,
          9.4,
          9.9,
          9.2,
          9.2,
          9.5,
          9.1,
          9.9,
          9.9,
          9.4,
          9.9,
          9.1,
          9.5,
          9.3,
          9.5,
          9.3,
          10.5,
          9.9,
          10.9,
          10.9,
          9.3,
          9.2,
          9.5,
          9.5,
          9.3,
          10.5,
          11.2,
          11.1,
          10.3,
          9.6,
          9.3,
          11.8,
          9,
          9.7,
          9.8,
          10.6,
          10.6,
          10.2,
          9.7,
          10.2,
          9.2,
          9.4,
          9.4,
          10,
          10,
          11.1,
          9.5,
          9.3,
          11,
          9.1,
          9.8,
          9.4,
          9.5,
          9.9,
          11,
          9.4,
          10.3,
          10.3,
          9.4,
          11.2,
          9.6,
          9.9,
          9.1,
          11.5,
          11.1,
          11.1,
          11.1,
          11.4,
          9.2,
          9.2,
          11.4,
          10.4,
          9.5,
          9.8,
          9.6,
          9.6,
          9.2,
          9.3,
          9.7,
          9.7,
          9,
          9.5,
          9.3,
          9.3,
          9.2,
          9.4,
          9.8,
          9.7,
          9.7,
          10.2,
          9.3,
          9.4,
          9.4,
          9.5,
          10.2,
          10.2,
          9.1,
          9.1,
          9.3,
          9.5,
          9.5,
          9.7,
          9.4,
          9.4,
          9.4,
          9.5,
          9.4,
          9.5,
          9.4,
          10.1,
          9.6,
          11.2,
          14.9,
          9.5,
          9.4,
          9.6,
          9,
          10.2,
          9.7,
          11,
          10,
          9.5,
          9.5,
          9.5,
          10.2,
          9.9,
          10,
          9.6,
          9,
          9.8,
          11.3,
          9.4,
          11.3,
          9.1,
          9.7,
          9.4,
          9.4,
          9.8,
          9,
          9.4,
          9.4,
          9.7,
          9.9,
          10,
          10.5,
          10.1,
          9.5,
          9.4,
          9.4,
          9.8,
          9.4,
          10,
          9.6,
          9.5,
          9.6,
          9.2,
          10,
          9.5,
          10.4,
          9.5,
          9.5,
          9.6,
          11.5,
          9.6,
          9.5,
          9.3,
          9.5,
          9.5,
          9.2,
          9.3,
          9.5,
          9.2,
          10,
          9.5,
          9.4,
          9.5,
          9.5,
          9.4,
          9.5,
          9.8,
          9.8,
          9.2,
          9.7,
          9.6,
          9.6,
          9.4,
          9.5,
          9.6,
          9.4,
          9.4,
          10,
          10.5,
          9.8,
          9.8,
          10,
          9.8,
          9.8,
          9.5,
          9.5,
          9.3,
          9.6,
          10.8,
          10.2,
          9.6,
          9.4,
          10,
          9.2,
          10.5,
          10.8,
          10.8,
          9.4,
          9.6,
          9.7,
          9.8,
          9.8,
          10.3,
          10.7,
          10.7,
          9.4,
          9.3,
          10,
          10.3,
          9.4,
          9.8,
          9.8,
          9.8,
          9.8,
          9.5,
          9.5,
          9.7,
          9.5,
          10.4,
          9.7,
          9.5,
          9.7,
          10.6,
          9.5,
          9.9,
          9.5,
          10.5,
          9.3,
          10.1,
          9.7,
          9.7,
          11.8,
          9.5,
          11,
          11,
          10.5,
          11.2,
          11.2,
          10.5,
          9.8,
          9.8,
          10.5,
          11.4,
          10.4,
          10,
          9.3,
          9.5,
          9.2,
          10.2,
          10.7,
          9.4,
          9.4,
          9.1,
          10.4,
          10,
          10.4,
          9.4,
          9.4,
          9.4,
          9.4,
          9.4,
          9.4,
          10.3,
          10.9,
          10,
          10.4,
          10.5,
          11.6,
          9.6,
          9.2,
          10.2,
          10.4,
          10.4,
          9.2,
          12.9,
          9.1,
          10.8,
          9.2,
          9.2,
          11,
          11,
          9.6,
          10.5,
          9.4,
          9.4,
          12.8,
          9.5,
          12.9,
          10,
          9.5,
          9.1,
          10.1,
          9.8,
          9.8,
          10.8,
          10,
          10,
          9.4,
          10.2,
          11.4,
          11.4,
          9.3,
          10.9,
          12.2,
          10.9,
          10.8,
          10.8,
          9.4,
          10,
          9.3,
          9.4,
          9.2,
          9.6,
          9.5,
          10.8,
          9.5,
          9.3,
          9.8,
          9.5,
          10.5,
          10,
          10.5,
          9.8,
          9.8,
          9.5,
          10.9,
          11,
          9.2,
          9.3,
          9.8,
          11.2,
          9.3,
          10.9,
          10.5,
          13,
          10.2,
          10.2,
          11,
          9.5,
          9.5,
          11.2,
          9.2,
          9.8,
          10.1,
          10.1,
          9.2,
          9.8,
          10.5,
          10.1,
          11.4,
          9.3,
          9.2,
          9.6,
          10,
          9.5,
          9.5,
          9.5,
          11,
          11.4,
          9.5,
          9.5,
          10.8,
          10,
          10.3,
          10.3,
          10,
          10.1,
          10.1,
          9.5,
          10.9,
          10.1,
          9.5,
          9.8,
          9.2,
          9.2,
          9.3,
          9.9,
          10,
          9.6,
          9.9,
          9.9,
          9.5,
          9.2,
          9.6,
          9.6,
          10.3,
          9.7,
          11,
          9.8,
          10.2,
          9.2,
          9.55,
          9.9,
          9.9,
          9.9,
          10.1,
          9.6,
          9.4,
          9.6,
          9.8,
          9.9,
          9.8,
          9.4,
          11.2,
          11,
          11.3,
          10.4,
          8.5,
          11.1,
          10.3,
          9.8,
          11.7,
          9.8,
          9.7,
          9.7,
          9,
          9,
          10.5,
          9.7,
          9.7,
          9.7,
          12.6,
          11,
          8.8,
          8.8,
          10.6,
          10.6,
          10.7,
          9.7,
          10.3,
          10.6,
          11.4,
          11.4,
          11.95,
          9.7,
          9.7,
          9.6,
          9.4,
          9.8,
          11.1,
          9.8,
          10.6,
          10.5,
          10.2,
          10.6,
          10.4,
          9.7,
          10.2,
          9,
          12,
          9.9,
          10.2,
          12.1,
          10.4,
          9.5,
          9.4,
          9.4,
          9.9,
          9.5,
          9.9,
          9.9,
          9.9,
          10.1,
          10.1,
          10.1,
          10.1,
          9.2,
          9.5,
          11.3,
          11.3,
          11.9,
          9.8,
          9.2,
          10.5,
          10.2
         ],
         "xaxis": "x6",
         "yaxis": "y6"
        },
        {
         "alignmentgroup": "True",
         "bingroup": "x",
         "hovertemplate": "quality=6<br>alcohol=%{x}<br>count=%{y}<extra></extra>",
         "legendgroup": "",
         "marker": {
          "color": "#636efa",
          "pattern": {
           "shape": ""
          }
         },
         "name": "",
         "offsetgroup": "",
         "orientation": "v",
         "showlegend": false,
         "type": "histogram",
         "x": [
          9.8,
          9.2,
          9.4,
          9.7,
          9.8,
          10.6,
          9.4,
          9.6,
          10.8,
          10.5,
          9.4,
          9.4,
          10.2,
          9.4,
          10.5,
          9.5,
          10.7,
          10.3,
          9.9,
          9.9,
          12.9,
          9,
          10.2,
          10.4,
          9,
          9.6,
          9.7,
          10.5,
          10,
          9.4,
          10.9,
          9.2,
          10.9,
          9.8,
          9.9,
          14,
          14,
          10.2,
          10.5,
          10.3,
          9.3,
          10,
          10.4,
          9.2,
          9.2,
          11.5,
          10.5,
          9.3,
          9.8,
          10.1,
          9.2,
          12.4,
          10,
          10.2,
          9.8,
          9.4,
          10,
          10.5,
          9.5,
          10.5,
          9.9,
          9.6,
          9,
          9,
          9,
          9.2,
          9,
          9,
          10.9,
          9.8,
          9.9,
          9.8,
          9.9,
          10,
          9.9,
          9.9,
          9.4,
          10.1,
          10.7,
          10.1,
          10.7,
          9.4,
          10.1,
          9.3,
          10.3,
          10.3,
          10.3,
          10.1,
          9.5,
          10.7,
          10.1,
          9.3,
          9.5,
          9.5,
          9.5,
          9.3,
          9.4,
          9.5,
          11,
          10.4,
          10.4,
          9.5,
          9.2,
          9.2,
          9.7,
          12.5,
          12.5,
          9.4,
          12.5,
          11.5,
          9.2,
          11.3,
          9.8,
          9.8,
          10.7,
          12,
          10,
          9.4,
          9.9,
          9.4,
          11.9,
          12.8,
          9.8,
          9.9,
          11.8,
          8.7,
          10.6,
          10.8,
          11,
          13.3,
          10.8,
          9.4,
          10,
          9.4,
          9.4,
          9.7,
          9.2,
          9.6,
          9.2,
          10,
          11,
          11,
          10.8,
          10.5,
          10.5,
          10.1,
          10.8,
          11.3,
          9.5,
          11.7,
          10.4,
          11.4,
          10.6,
          10.4,
          12.8,
          9.9,
          10.2,
          11.2,
          9.9,
          11.3,
          10.1,
          10.2,
          10.8,
          10.8,
          9.1,
          10,
          11.3,
          9.2,
          11.5,
          14,
          9.2,
          11.4,
          10.4,
          9.4,
          11,
          10.1,
          13.4,
          10,
          10.2,
          10.6,
          11.6,
          12.1,
          9,
          11.6,
          9,
          9.5,
          10.2,
          10.2,
          9.7,
          11.9,
          11.7,
          10,
          11.4,
          8.7,
          10.3,
          12.8,
          10,
          10.3,
          10.7,
          11,
          11,
          8.4,
          9.5,
          10.7,
          10.4,
          9.4,
          9.5,
          10,
          10,
          11.7,
          11.7,
          12.7,
          10.1,
          12.7,
          9,
          9,
          10.7,
          11.7,
          11,
          11.7,
          10,
          10.2,
          9.8,
          9.6,
          11.5,
          9.3,
          10,
          9.8,
          9.3,
          9,
          9,
          9.1,
          9.2,
          10.5,
          10.4,
          12.7,
          10,
          10.2,
          9.8,
          12.1,
          9.3,
          9.3,
          10.5,
          10.3,
          11.3,
          12,
          9.6,
          9.6,
          9.6,
          10.2,
          9.5,
          9.2,
          9.2,
          9.3,
          9.3,
          10.2,
          12.8,
          9.5,
          9.5,
          10.8,
          10.1,
          9.5,
          9.4,
          11.6,
          10,
          9.2,
          11.1,
          12.7,
          9.3,
          11.5,
          9.5,
          9,
          9.6,
          9.5,
          9.1,
          10.7,
          11.2,
          10,
          9.5,
          9.5,
          9.7,
          9.7,
          9.5,
          9.5,
          10.3,
          10.3,
          9.4,
          10.1,
          10.1,
          9.7,
          9.7,
          12.5,
          10.7,
          10.7,
          9.6,
          9.9,
          10.3,
          10.9,
          11.3,
          10.5,
          11.9,
          11.1,
          11.1,
          10.9,
          10.6,
          9.9,
          10.9,
          10.9,
          10.9,
          11.2,
          11.5,
          11.3,
          11.2,
          11.2,
          10.9,
          11.8,
          11.8,
          10,
          11.4,
          12,
          10,
          10.4,
          11.2,
          9.3,
          9.8,
          10.7,
          10.7,
          11.5,
          10.8,
          11.5,
          13.2,
          10.9,
          12.2,
          11.5,
          11.9,
          10.1,
          11,
          11.8,
          11,
          11.8,
          10.1,
          10.2,
          9.5,
          11.8,
          11.8,
          12.2,
          11.3,
          11.1,
          11.1,
          11.2,
          11.1,
          11,
          12.2,
          10.9,
          10.9,
          10.5,
          12.9,
          10.5,
          11.3,
          10.9,
          9.4,
          10.1,
          9.1,
          12.9,
          10.4,
          10,
          11.2,
          11.4,
          12.7,
          12.7,
          11.9,
          11.9,
          12.3,
          10.4,
          12.6,
          10.1,
          10.4,
          9.7,
          11.1,
          9.8,
          11.1,
          12.2,
          11.4,
          10.7,
          10.9,
          10.8,
          9.1,
          9.1,
          9.9,
          11.4,
          11.8,
          11.8,
          10.2,
          9.5,
          10.7,
          11.4,
          11.8,
          9.5,
          12,
          9.5,
          11.2,
          11.4,
          11.5,
          10.8,
          10.8,
          12.4,
          12,
          11.2,
          12,
          12.4,
          12.3,
          10.8,
          10,
          11,
          9.5,
          13.6,
          11.3,
          11.3,
          11.3,
          13.3,
          12.3,
          12.3,
          11.2,
          13.5,
          11.5,
          10.5,
          10.4,
          11.9,
          11.4,
          11.4,
          9.5,
          9.5,
          11,
          11.4,
          10,
          10.4,
          9.8,
          11.6,
          12,
          12.5,
          11.1,
          11.4,
          10.6,
          10.2,
          12,
          11.5,
          10.5,
          10.8,
          12.3,
          9.5,
          9.5,
          11.5,
          11,
          11,
          10.5,
          11.9,
          11.9,
          12.5,
          9.5,
          9.5,
          9.5,
          9.8,
          10.9,
          9.5,
          9.8,
          10.4,
          10.4,
          10.5,
          10.4,
          11.3,
          9.5,
          12,
          10.6,
          10.9,
          11.5,
          11.5,
          9.6,
          12,
          10.3,
          11.8,
          12.8,
          9.4,
          12.8,
          12.2,
          10.3,
          11.1,
          10.9,
          10.9,
          11,
          11.3,
          11.3,
          11.8,
          10.3,
          10.3,
          11.4,
          9.5,
          14,
          11.7,
          11.2,
          9.5,
          9.7,
          9.5,
          10.4,
          10.4,
          10.9,
          10.2,
          12.4,
          10.9,
          12.4,
          10.9,
          12.1,
          12.2,
          12.5,
          11.7,
          11.2,
          12.8,
          10.1,
          10.1,
          9.8,
          12.5,
          11.9,
          9.8,
          9.1,
          12.5,
          10.6,
          10.6,
          10.6,
          10.6,
          9.8,
          9.8,
          9.7,
          12.6,
          10.5,
          10.5,
          10.5,
          10.4,
          10.5,
          10.2,
          11.8,
          11.1,
          10.0333333333333,
          10.0333333333333,
          11.8,
          10.5,
          9.8,
          11.6,
          12.2,
          9.9,
          10.8,
          10.8,
          12.5,
          9.55,
          11.1,
          11.9,
          10.7,
          10.9,
          10.7,
          10.7,
          11.9,
          10.6,
          10.9,
          11.4,
          9.6,
          9.6,
          12.1,
          9.9,
          11.7,
          9,
          9,
          11.066666666666698,
          9.56666666666667,
          11.1,
          9.6,
          10.9,
          10.9,
          10.55,
          10.4,
          10.4,
          10.8,
          11.1,
          10.8,
          12.4,
          10.6,
          11.5,
          10.8,
          11.5,
          11,
          11.4,
          10.8,
          11.4,
          10.6,
          9.7,
          10.4,
          10.5,
          9.23333333333333,
          9.25,
          10.3,
          10.3,
          10,
          9.6,
          10.8,
          10.1,
          10.2,
          11.3,
          9.9,
          9.7,
          10.3,
          10.2,
          11.6,
          10.75,
          10.4,
          10.1,
          11.3,
          11,
          11,
          10.9,
          11.2,
          11.5,
          12.4,
          11.1,
          12.5,
          10.5,
          11.8,
          10.8,
          11.9,
          11.3,
          11.9,
          11.5,
          11.4,
          10.9,
          12.8,
          11.6,
          11.6,
          11,
          9.5,
          11.2,
          11,
          11
         ],
         "xaxis": "x5",
         "yaxis": "y5"
        },
        {
         "alignmentgroup": "True",
         "bingroup": "x",
         "hovertemplate": "quality=7<br>alcohol=%{x}<br>count=%{y}<extra></extra>",
         "legendgroup": "",
         "marker": {
          "color": "#636efa",
          "pattern": {
           "shape": ""
          }
         },
         "name": "",
         "offsetgroup": "",
         "orientation": "v",
         "showlegend": false,
         "type": "histogram",
         "x": [
          10,
          9.5,
          10.5,
          9.7,
          9.5,
          10.5,
          13,
          10.3,
          10.8,
          10.8,
          10.5,
          12.2,
          9.2,
          9.2,
          10.5,
          10.2,
          10.5,
          9.9,
          10.5,
          10.6,
          10.6,
          11.5,
          11.5,
          11.5,
          11.7,
          12.2,
          9.8,
          12.3,
          11.7,
          10.4,
          10,
          10,
          12,
          11.8,
          12,
          10,
          13,
          10.8,
          11.7,
          11.8,
          12.3,
          11,
          12.3,
          11,
          11.2,
          11.6,
          12.5,
          11.2,
          11.2,
          10.8,
          13.3,
          13.4,
          12,
          12,
          10.9,
          10.8,
          12.5,
          10.8,
          11.4,
          11.8,
          11.8,
          12,
          9.9,
          10.7,
          10.6,
          10.5,
          12.2,
          10.2,
          10.1,
          11.2,
          10.5,
          10.8,
          12.9,
          12.8,
          12.5,
          12.8,
          14,
          11,
          11.7,
          11.7,
          11.2,
          12.1,
          11.7,
          11.3,
          10.6,
          11.1,
          11.8,
          11.8,
          12.1,
          12.5,
          12.5,
          10.8,
          10.8,
          10.8,
          10.8,
          12.2,
          11,
          12,
          12.9,
          12.4,
          12.5,
          10,
          9.7,
          12.1,
          11.1,
          12,
          12.4,
          11.9,
          11.9,
          11.9,
          12.4,
          11.2,
          12.1,
          11.3,
          11.9,
          11.6,
          12.1,
          11.3,
          11.4,
          12.8,
          12.8,
          11.5,
          10.6,
          11.7,
          12.8,
          12.8,
          11.7,
          11.7,
          12,
          12.3,
          12.6,
          10.5,
          10.5,
          11.5,
          11,
          10.6,
          12.5,
          12.6,
          10.9,
          12.7,
          12.1,
          11.6,
          12.1,
          12.5,
          10.9,
          10.9,
          11.1,
          10.2,
          12.3,
          12.3,
          11.6,
          9.9,
          9.9,
          12,
          12.5,
          11.7,
          12.3,
          11.3,
          13.6,
          11.2,
          11.8,
          11.8,
          12.8,
          11.8,
          12.9,
          11.1,
          11.8,
          12.4,
          12.7,
          12.4,
          11.2,
          11,
          11,
          11,
          11,
          11.2,
          13.6,
          11.5,
          11,
          10.2,
          11.3,
          12.4,
          12.1,
          10.1,
          11.3,
          11.3,
          11,
          11.6,
          11.9,
          10,
          10,
          13.566666666666698,
          13.6,
          10,
          11.7,
          10.9,
          11.2,
          10.55,
          11.6
         ],
         "xaxis": "x4",
         "yaxis": "y4"
        },
        {
         "alignmentgroup": "True",
         "bingroup": "x",
         "hovertemplate": "quality=4<br>alcohol=%{x}<br>count=%{y}<extra></extra>",
         "legendgroup": "",
         "marker": {
          "color": "#636efa",
          "pattern": {
           "shape": ""
          }
         },
         "name": "",
         "offsetgroup": "",
         "orientation": "v",
         "showlegend": false,
         "type": "histogram",
         "x": [
          9,
          9.8,
          9.3,
          13.1,
          9.2,
          9.1,
          10.5,
          9.4,
          9.2,
          9,
          9.1,
          11.4,
          10.4,
          9.4,
          9.8,
          9.6,
          9.6,
          10,
          10,
          11.3,
          11,
          11,
          9.6,
          9.7,
          11.2,
          11.4,
          10.9,
          9.9,
          10,
          10.9,
          9.2,
          10.4,
          11.5,
          11.2,
          9.6,
          9.3,
          11.5,
          9.6,
          11.8,
          11.2,
          9.6,
          12,
          9.7,
          11.1,
          9.8,
          10.4,
          11,
          10,
          11,
          10.1,
          10.3,
          10.9,
          9.05
         ],
         "xaxis": "x3",
         "yaxis": "y3"
        },
        {
         "alignmentgroup": "True",
         "bingroup": "x",
         "hovertemplate": "quality=8<br>alcohol=%{x}<br>count=%{y}<extra></extra>",
         "legendgroup": "",
         "marker": {
          "color": "#636efa",
          "pattern": {
           "shape": ""
          }
         },
         "name": "",
         "offsetgroup": "",
         "orientation": "v",
         "showlegend": false,
         "type": "histogram",
         "x": [
          12.8,
          12.6,
          12.9,
          9.8,
          13.4,
          11.7,
          11,
          11,
          14,
          12.7,
          12.5,
          11.8,
          13.1,
          11.7,
          14,
          10,
          11.3,
          11.4
         ],
         "xaxis": "x2",
         "yaxis": "y2"
        },
        {
         "alignmentgroup": "True",
         "bingroup": "x",
         "hovertemplate": "quality=3<br>alcohol=%{x}<br>count=%{y}<extra></extra>",
         "legendgroup": "",
         "marker": {
          "color": "#636efa",
          "pattern": {
           "shape": ""
          }
         },
         "name": "",
         "offsetgroup": "",
         "orientation": "v",
         "showlegend": false,
         "type": "histogram",
         "x": [
          9,
          8.4,
          10.7,
          9.9,
          11,
          10.9,
          9.8,
          9.7,
          10.2,
          9.95
         ],
         "xaxis": "x",
         "yaxis": "y"
        }
       ],
       "layout": {
        "annotations": [
         {
          "font": {},
          "showarrow": false,
          "text": "quality=3",
          "textangle": 90,
          "x": 0.98,
          "xanchor": "left",
          "xref": "paper",
          "y": 0.07083333333333333,
          "yanchor": "middle",
          "yref": "paper"
         },
         {
          "font": {},
          "showarrow": false,
          "text": "quality=8",
          "textangle": 90,
          "x": 0.98,
          "xanchor": "left",
          "xref": "paper",
          "y": 0.2425,
          "yanchor": "middle",
          "yref": "paper"
         },
         {
          "font": {},
          "showarrow": false,
          "text": "quality=4",
          "textangle": 90,
          "x": 0.98,
          "xanchor": "left",
          "xref": "paper",
          "y": 0.4141666666666667,
          "yanchor": "middle",
          "yref": "paper"
         },
         {
          "font": {},
          "showarrow": false,
          "text": "quality=7",
          "textangle": 90,
          "x": 0.98,
          "xanchor": "left",
          "xref": "paper",
          "y": 0.5858333333333334,
          "yanchor": "middle",
          "yref": "paper"
         },
         {
          "font": {},
          "showarrow": false,
          "text": "quality=6",
          "textangle": 90,
          "x": 0.98,
          "xanchor": "left",
          "xref": "paper",
          "y": 0.7575000000000001,
          "yanchor": "middle",
          "yref": "paper"
         },
         {
          "font": {},
          "showarrow": false,
          "text": "quality=5",
          "textangle": 90,
          "x": 0.98,
          "xanchor": "left",
          "xref": "paper",
          "y": 0.9291666666666667,
          "yanchor": "middle",
          "yref": "paper"
         }
        ],
        "barmode": "relative",
        "legend": {
         "tracegroupgap": 0
        },
        "margin": {
         "t": 60
        },
        "template": {
         "data": {
          "bar": [
           {
            "error_x": {
             "color": "#2a3f5f"
            },
            "error_y": {
             "color": "#2a3f5f"
            },
            "marker": {
             "line": {
              "color": "#E5ECF6",
              "width": 0.5
             },
             "pattern": {
              "fillmode": "overlay",
              "size": 10,
              "solidity": 0.2
             }
            },
            "type": "bar"
           }
          ],
          "barpolar": [
           {
            "marker": {
             "line": {
              "color": "#E5ECF6",
              "width": 0.5
             },
             "pattern": {
              "fillmode": "overlay",
              "size": 10,
              "solidity": 0.2
             }
            },
            "type": "barpolar"
           }
          ],
          "carpet": [
           {
            "aaxis": {
             "endlinecolor": "#2a3f5f",
             "gridcolor": "white",
             "linecolor": "white",
             "minorgridcolor": "white",
             "startlinecolor": "#2a3f5f"
            },
            "baxis": {
             "endlinecolor": "#2a3f5f",
             "gridcolor": "white",
             "linecolor": "white",
             "minorgridcolor": "white",
             "startlinecolor": "#2a3f5f"
            },
            "type": "carpet"
           }
          ],
          "choropleth": [
           {
            "colorbar": {
             "outlinewidth": 0,
             "ticks": ""
            },
            "type": "choropleth"
           }
          ],
          "contour": [
           {
            "colorbar": {
             "outlinewidth": 0,
             "ticks": ""
            },
            "colorscale": [
             [
              0,
              "#0d0887"
             ],
             [
              0.1111111111111111,
              "#46039f"
             ],
             [
              0.2222222222222222,
              "#7201a8"
             ],
             [
              0.3333333333333333,
              "#9c179e"
             ],
             [
              0.4444444444444444,
              "#bd3786"
             ],
             [
              0.5555555555555556,
              "#d8576b"
             ],
             [
              0.6666666666666666,
              "#ed7953"
             ],
             [
              0.7777777777777778,
              "#fb9f3a"
             ],
             [
              0.8888888888888888,
              "#fdca26"
             ],
             [
              1,
              "#f0f921"
             ]
            ],
            "type": "contour"
           }
          ],
          "contourcarpet": [
           {
            "colorbar": {
             "outlinewidth": 0,
             "ticks": ""
            },
            "type": "contourcarpet"
           }
          ],
          "heatmap": [
           {
            "colorbar": {
             "outlinewidth": 0,
             "ticks": ""
            },
            "colorscale": [
             [
              0,
              "#0d0887"
             ],
             [
              0.1111111111111111,
              "#46039f"
             ],
             [
              0.2222222222222222,
              "#7201a8"
             ],
             [
              0.3333333333333333,
              "#9c179e"
             ],
             [
              0.4444444444444444,
              "#bd3786"
             ],
             [
              0.5555555555555556,
              "#d8576b"
             ],
             [
              0.6666666666666666,
              "#ed7953"
             ],
             [
              0.7777777777777778,
              "#fb9f3a"
             ],
             [
              0.8888888888888888,
              "#fdca26"
             ],
             [
              1,
              "#f0f921"
             ]
            ],
            "type": "heatmap"
           }
          ],
          "heatmapgl": [
           {
            "colorbar": {
             "outlinewidth": 0,
             "ticks": ""
            },
            "colorscale": [
             [
              0,
              "#0d0887"
             ],
             [
              0.1111111111111111,
              "#46039f"
             ],
             [
              0.2222222222222222,
              "#7201a8"
             ],
             [
              0.3333333333333333,
              "#9c179e"
             ],
             [
              0.4444444444444444,
              "#bd3786"
             ],
             [
              0.5555555555555556,
              "#d8576b"
             ],
             [
              0.6666666666666666,
              "#ed7953"
             ],
             [
              0.7777777777777778,
              "#fb9f3a"
             ],
             [
              0.8888888888888888,
              "#fdca26"
             ],
             [
              1,
              "#f0f921"
             ]
            ],
            "type": "heatmapgl"
           }
          ],
          "histogram": [
           {
            "marker": {
             "pattern": {
              "fillmode": "overlay",
              "size": 10,
              "solidity": 0.2
             }
            },
            "type": "histogram"
           }
          ],
          "histogram2d": [
           {
            "colorbar": {
             "outlinewidth": 0,
             "ticks": ""
            },
            "colorscale": [
             [
              0,
              "#0d0887"
             ],
             [
              0.1111111111111111,
              "#46039f"
             ],
             [
              0.2222222222222222,
              "#7201a8"
             ],
             [
              0.3333333333333333,
              "#9c179e"
             ],
             [
              0.4444444444444444,
              "#bd3786"
             ],
             [
              0.5555555555555556,
              "#d8576b"
             ],
             [
              0.6666666666666666,
              "#ed7953"
             ],
             [
              0.7777777777777778,
              "#fb9f3a"
             ],
             [
              0.8888888888888888,
              "#fdca26"
             ],
             [
              1,
              "#f0f921"
             ]
            ],
            "type": "histogram2d"
           }
          ],
          "histogram2dcontour": [
           {
            "colorbar": {
             "outlinewidth": 0,
             "ticks": ""
            },
            "colorscale": [
             [
              0,
              "#0d0887"
             ],
             [
              0.1111111111111111,
              "#46039f"
             ],
             [
              0.2222222222222222,
              "#7201a8"
             ],
             [
              0.3333333333333333,
              "#9c179e"
             ],
             [
              0.4444444444444444,
              "#bd3786"
             ],
             [
              0.5555555555555556,
              "#d8576b"
             ],
             [
              0.6666666666666666,
              "#ed7953"
             ],
             [
              0.7777777777777778,
              "#fb9f3a"
             ],
             [
              0.8888888888888888,
              "#fdca26"
             ],
             [
              1,
              "#f0f921"
             ]
            ],
            "type": "histogram2dcontour"
           }
          ],
          "mesh3d": [
           {
            "colorbar": {
             "outlinewidth": 0,
             "ticks": ""
            },
            "type": "mesh3d"
           }
          ],
          "parcoords": [
           {
            "line": {
             "colorbar": {
              "outlinewidth": 0,
              "ticks": ""
             }
            },
            "type": "parcoords"
           }
          ],
          "pie": [
           {
            "automargin": true,
            "type": "pie"
           }
          ],
          "scatter": [
           {
            "marker": {
             "colorbar": {
              "outlinewidth": 0,
              "ticks": ""
             }
            },
            "type": "scatter"
           }
          ],
          "scatter3d": [
           {
            "line": {
             "colorbar": {
              "outlinewidth": 0,
              "ticks": ""
             }
            },
            "marker": {
             "colorbar": {
              "outlinewidth": 0,
              "ticks": ""
             }
            },
            "type": "scatter3d"
           }
          ],
          "scattercarpet": [
           {
            "marker": {
             "colorbar": {
              "outlinewidth": 0,
              "ticks": ""
             }
            },
            "type": "scattercarpet"
           }
          ],
          "scattergeo": [
           {
            "marker": {
             "colorbar": {
              "outlinewidth": 0,
              "ticks": ""
             }
            },
            "type": "scattergeo"
           }
          ],
          "scattergl": [
           {
            "marker": {
             "colorbar": {
              "outlinewidth": 0,
              "ticks": ""
             }
            },
            "type": "scattergl"
           }
          ],
          "scattermapbox": [
           {
            "marker": {
             "colorbar": {
              "outlinewidth": 0,
              "ticks": ""
             }
            },
            "type": "scattermapbox"
           }
          ],
          "scatterpolar": [
           {
            "marker": {
             "colorbar": {
              "outlinewidth": 0,
              "ticks": ""
             }
            },
            "type": "scatterpolar"
           }
          ],
          "scatterpolargl": [
           {
            "marker": {
             "colorbar": {
              "outlinewidth": 0,
              "ticks": ""
             }
            },
            "type": "scatterpolargl"
           }
          ],
          "scatterternary": [
           {
            "marker": {
             "colorbar": {
              "outlinewidth": 0,
              "ticks": ""
             }
            },
            "type": "scatterternary"
           }
          ],
          "surface": [
           {
            "colorbar": {
             "outlinewidth": 0,
             "ticks": ""
            },
            "colorscale": [
             [
              0,
              "#0d0887"
             ],
             [
              0.1111111111111111,
              "#46039f"
             ],
             [
              0.2222222222222222,
              "#7201a8"
             ],
             [
              0.3333333333333333,
              "#9c179e"
             ],
             [
              0.4444444444444444,
              "#bd3786"
             ],
             [
              0.5555555555555556,
              "#d8576b"
             ],
             [
              0.6666666666666666,
              "#ed7953"
             ],
             [
              0.7777777777777778,
              "#fb9f3a"
             ],
             [
              0.8888888888888888,
              "#fdca26"
             ],
             [
              1,
              "#f0f921"
             ]
            ],
            "type": "surface"
           }
          ],
          "table": [
           {
            "cells": {
             "fill": {
              "color": "#EBF0F8"
             },
             "line": {
              "color": "white"
             }
            },
            "header": {
             "fill": {
              "color": "#C8D4E3"
             },
             "line": {
              "color": "white"
             }
            },
            "type": "table"
           }
          ]
         },
         "layout": {
          "annotationdefaults": {
           "arrowcolor": "#2a3f5f",
           "arrowhead": 0,
           "arrowwidth": 1
          },
          "autotypenumbers": "strict",
          "coloraxis": {
           "colorbar": {
            "outlinewidth": 0,
            "ticks": ""
           }
          },
          "colorscale": {
           "diverging": [
            [
             0,
             "#8e0152"
            ],
            [
             0.1,
             "#c51b7d"
            ],
            [
             0.2,
             "#de77ae"
            ],
            [
             0.3,
             "#f1b6da"
            ],
            [
             0.4,
             "#fde0ef"
            ],
            [
             0.5,
             "#f7f7f7"
            ],
            [
             0.6,
             "#e6f5d0"
            ],
            [
             0.7,
             "#b8e186"
            ],
            [
             0.8,
             "#7fbc41"
            ],
            [
             0.9,
             "#4d9221"
            ],
            [
             1,
             "#276419"
            ]
           ],
           "sequential": [
            [
             0,
             "#0d0887"
            ],
            [
             0.1111111111111111,
             "#46039f"
            ],
            [
             0.2222222222222222,
             "#7201a8"
            ],
            [
             0.3333333333333333,
             "#9c179e"
            ],
            [
             0.4444444444444444,
             "#bd3786"
            ],
            [
             0.5555555555555556,
             "#d8576b"
            ],
            [
             0.6666666666666666,
             "#ed7953"
            ],
            [
             0.7777777777777778,
             "#fb9f3a"
            ],
            [
             0.8888888888888888,
             "#fdca26"
            ],
            [
             1,
             "#f0f921"
            ]
           ],
           "sequentialminus": [
            [
             0,
             "#0d0887"
            ],
            [
             0.1111111111111111,
             "#46039f"
            ],
            [
             0.2222222222222222,
             "#7201a8"
            ],
            [
             0.3333333333333333,
             "#9c179e"
            ],
            [
             0.4444444444444444,
             "#bd3786"
            ],
            [
             0.5555555555555556,
             "#d8576b"
            ],
            [
             0.6666666666666666,
             "#ed7953"
            ],
            [
             0.7777777777777778,
             "#fb9f3a"
            ],
            [
             0.8888888888888888,
             "#fdca26"
            ],
            [
             1,
             "#f0f921"
            ]
           ]
          },
          "colorway": [
           "#636efa",
           "#EF553B",
           "#00cc96",
           "#ab63fa",
           "#FFA15A",
           "#19d3f3",
           "#FF6692",
           "#B6E880",
           "#FF97FF",
           "#FECB52"
          ],
          "font": {
           "color": "#2a3f5f"
          },
          "geo": {
           "bgcolor": "white",
           "lakecolor": "white",
           "landcolor": "#E5ECF6",
           "showlakes": true,
           "showland": true,
           "subunitcolor": "white"
          },
          "hoverlabel": {
           "align": "left"
          },
          "hovermode": "closest",
          "mapbox": {
           "style": "light"
          },
          "paper_bgcolor": "white",
          "plot_bgcolor": "#E5ECF6",
          "polar": {
           "angularaxis": {
            "gridcolor": "white",
            "linecolor": "white",
            "ticks": ""
           },
           "bgcolor": "#E5ECF6",
           "radialaxis": {
            "gridcolor": "white",
            "linecolor": "white",
            "ticks": ""
           }
          },
          "scene": {
           "xaxis": {
            "backgroundcolor": "#E5ECF6",
            "gridcolor": "white",
            "gridwidth": 2,
            "linecolor": "white",
            "showbackground": true,
            "ticks": "",
            "zerolinecolor": "white"
           },
           "yaxis": {
            "backgroundcolor": "#E5ECF6",
            "gridcolor": "white",
            "gridwidth": 2,
            "linecolor": "white",
            "showbackground": true,
            "ticks": "",
            "zerolinecolor": "white"
           },
           "zaxis": {
            "backgroundcolor": "#E5ECF6",
            "gridcolor": "white",
            "gridwidth": 2,
            "linecolor": "white",
            "showbackground": true,
            "ticks": "",
            "zerolinecolor": "white"
           }
          },
          "shapedefaults": {
           "line": {
            "color": "#2a3f5f"
           }
          },
          "ternary": {
           "aaxis": {
            "gridcolor": "white",
            "linecolor": "white",
            "ticks": ""
           },
           "baxis": {
            "gridcolor": "white",
            "linecolor": "white",
            "ticks": ""
           },
           "bgcolor": "#E5ECF6",
           "caxis": {
            "gridcolor": "white",
            "linecolor": "white",
            "ticks": ""
           }
          },
          "title": {
           "x": 0.05
          },
          "xaxis": {
           "automargin": true,
           "gridcolor": "white",
           "linecolor": "white",
           "ticks": "",
           "title": {
            "standoff": 15
           },
           "zerolinecolor": "white",
           "zerolinewidth": 2
          },
          "yaxis": {
           "automargin": true,
           "gridcolor": "white",
           "linecolor": "white",
           "ticks": "",
           "title": {
            "standoff": 15
           },
           "zerolinecolor": "white",
           "zerolinewidth": 2
          }
         }
        },
        "xaxis": {
         "anchor": "y",
         "domain": [
          0,
          0.98
         ],
         "title": {
          "text": "alcohol"
         }
        },
        "xaxis2": {
         "anchor": "y2",
         "domain": [
          0,
          0.98
         ],
         "matches": "x",
         "showticklabels": false
        },
        "xaxis3": {
         "anchor": "y3",
         "domain": [
          0,
          0.98
         ],
         "matches": "x",
         "showticklabels": false
        },
        "xaxis4": {
         "anchor": "y4",
         "domain": [
          0,
          0.98
         ],
         "matches": "x",
         "showticklabels": false
        },
        "xaxis5": {
         "anchor": "y5",
         "domain": [
          0,
          0.98
         ],
         "matches": "x",
         "showticklabels": false
        },
        "xaxis6": {
         "anchor": "y6",
         "domain": [
          0,
          0.98
         ],
         "matches": "x",
         "showticklabels": false
        },
        "yaxis": {
         "anchor": "x",
         "domain": [
          0,
          0.14166666666666666
         ],
         "title": {
          "text": "count"
         }
        },
        "yaxis2": {
         "anchor": "x2",
         "domain": [
          0.17166666666666666,
          0.31333333333333335
         ],
         "matches": "y",
         "title": {
          "text": "count"
         }
        },
        "yaxis3": {
         "anchor": "x3",
         "domain": [
          0.3433333333333333,
          0.485
         ],
         "matches": "y",
         "title": {
          "text": "count"
         }
        },
        "yaxis4": {
         "anchor": "x4",
         "domain": [
          0.515,
          0.6566666666666667
         ],
         "matches": "y",
         "title": {
          "text": "count"
         }
        },
        "yaxis5": {
         "anchor": "x5",
         "domain": [
          0.6866666666666666,
          0.8283333333333334
         ],
         "matches": "y",
         "title": {
          "text": "count"
         }
        },
        "yaxis6": {
         "anchor": "x6",
         "domain": [
          0.8583333333333333,
          1
         ],
         "matches": "y",
         "title": {
          "text": "count"
         }
        }
       }
      },
      "text/html": [
       "<div>                            <div id=\"c1480fbe-0d5d-48ac-95f0-dce993ae6456\" class=\"plotly-graph-div\" style=\"height:525px; width:100%;\"></div>            <script type=\"text/javascript\">                require([\"plotly\"], function(Plotly) {                    window.PLOTLYENV=window.PLOTLYENV || {};                                    if (document.getElementById(\"c1480fbe-0d5d-48ac-95f0-dce993ae6456\")) {                    Plotly.newPlot(                        \"c1480fbe-0d5d-48ac-95f0-dce993ae6456\",                        [{\"alignmentgroup\":\"True\",\"bingroup\":\"x\",\"hovertemplate\":\"quality=5<br>alcohol=%{x}<br>count=%{y}<extra></extra>\",\"legendgroup\":\"\",\"marker\":{\"color\":\"#636efa\",\"pattern\":{\"shape\":\"\"}},\"name\":\"\",\"offsetgroup\":\"\",\"orientation\":\"v\",\"showlegend\":false,\"x\":[9.4,9.8,9.8,9.4,9.4,9.4,10.5,9.2,10.5,9.9,9.1,9.2,9.2,9.3,9.7,9.5,9.4,9.3,9.5,9.5,9.4,10.1,9.8,9.2,10.5,10.5,10.3,9.5,9.2,9.5,9.2,9.2,9.2,9.4,9.5,9.6,9.4,10.0,9.2,9.3,9.8,10.9,10.9,9.6,10.7,10.7,9.5,9.5,9.6,10.5,10.5,10.1,9.2,9.4,9.1,9.4,10.1,9.6,9.5,9.0,9.5,9.8,9.6,10.7,9.2,9.8,9.2,9.4,9.2,9.3,9.3,9.3,9.5,9.8,9.8,9.5,9.0,9.2,9.5,9.5,9.4,10.9,10.9,9.4,9.4,13.0,13.0,9.6,9.5,9.2,9.5,9.5,9.6,9.5,9.4,9.4,10.0,9.3,10.1,10.1,10.5,10.5,10.5,10.5,9.3,9.6,9.4,9.4,9.5,10.2,9.5,9.5,9.5,9.5,9.6,9.5,9.5,9.3,9.3,9.3,9.7,9.2,9.7,9.5,9.5,9.4,9.5,9.7,9.7,9.4,10.2,9.3,9.5,9.2,9.3,9.4,10.1,10.5,11.0,9.1,9.7,9.5,9.4,9.5,9.8,11.0,11.0,9.3,9.5,9.3,10.5,9.5,9.3,9.2,9.2,9.4,9.3,10.0,9.3,10.9,10.1,9.4,9.4,9.1,9.8,9.8,9.2,10.5,9.5,9.9,9.6,9.7,9.6,10.0,9.5,9.2,9.4,9.4,11.0,10.1,9.7,9.3,11.5,9.5,11.0,10.3,9.9,9.3,13.0,11.0,9.4,10.0,10.2,9.0,9.4,9.9,9.2,9.2,9.5,9.1,9.9,9.9,9.4,9.9,9.1,9.5,9.3,9.5,9.3,10.5,9.9,10.9,10.9,9.3,9.2,9.5,9.5,9.3,10.5,11.2,11.1,10.3,9.6,9.3,11.8,9.0,9.7,9.8,10.6,10.6,10.2,9.7,10.2,9.2,9.4,9.4,10.0,10.0,11.1,9.5,9.3,11.0,9.1,9.8,9.4,9.5,9.9,11.0,9.4,10.3,10.3,9.4,11.2,9.6,9.9,9.1,11.5,11.1,11.1,11.1,11.4,9.2,9.2,11.4,10.4,9.5,9.8,9.6,9.6,9.2,9.3,9.7,9.7,9.0,9.5,9.3,9.3,9.2,9.4,9.8,9.7,9.7,10.2,9.3,9.4,9.4,9.5,10.2,10.2,9.1,9.1,9.3,9.5,9.5,9.7,9.4,9.4,9.4,9.5,9.4,9.5,9.4,10.1,9.6,11.2,14.9,9.5,9.4,9.6,9.0,10.2,9.7,11.0,10.0,9.5,9.5,9.5,10.2,9.9,10.0,9.6,9.0,9.8,11.3,9.4,11.3,9.1,9.7,9.4,9.4,9.8,9.0,9.4,9.4,9.7,9.9,10.0,10.5,10.1,9.5,9.4,9.4,9.8,9.4,10.0,9.6,9.5,9.6,9.2,10.0,9.5,10.4,9.5,9.5,9.6,11.5,9.6,9.5,9.3,9.5,9.5,9.2,9.3,9.5,9.2,10.0,9.5,9.4,9.5,9.5,9.4,9.5,9.8,9.8,9.2,9.7,9.6,9.6,9.4,9.5,9.6,9.4,9.4,10.0,10.5,9.8,9.8,10.0,9.8,9.8,9.5,9.5,9.3,9.6,10.8,10.2,9.6,9.4,10.0,9.2,10.5,10.8,10.8,9.4,9.6,9.7,9.8,9.8,10.3,10.7,10.7,9.4,9.3,10.0,10.3,9.4,9.8,9.8,9.8,9.8,9.5,9.5,9.7,9.5,10.4,9.7,9.5,9.7,10.6,9.5,9.9,9.5,10.5,9.3,10.1,9.7,9.7,11.8,9.5,11.0,11.0,10.5,11.2,11.2,10.5,9.8,9.8,10.5,11.4,10.4,10.0,9.3,9.5,9.2,10.2,10.7,9.4,9.4,9.1,10.4,10.0,10.4,9.4,9.4,9.4,9.4,9.4,9.4,10.3,10.9,10.0,10.4,10.5,11.6,9.6,9.2,10.2,10.4,10.4,9.2,12.9,9.1,10.8,9.2,9.2,11.0,11.0,9.6,10.5,9.4,9.4,12.8,9.5,12.9,10.0,9.5,9.1,10.1,9.8,9.8,10.8,10.0,10.0,9.4,10.2,11.4,11.4,9.3,10.9,12.2,10.9,10.8,10.8,9.4,10.0,9.3,9.4,9.2,9.6,9.5,10.8,9.5,9.3,9.8,9.5,10.5,10.0,10.5,9.8,9.8,9.5,10.9,11.0,9.2,9.3,9.8,11.2,9.3,10.9,10.5,13.0,10.2,10.2,11.0,9.5,9.5,11.2,9.2,9.8,10.1,10.1,9.2,9.8,10.5,10.1,11.4,9.3,9.2,9.6,10.0,9.5,9.5,9.5,11.0,11.4,9.5,9.5,10.8,10.0,10.3,10.3,10.0,10.1,10.1,9.5,10.9,10.1,9.5,9.8,9.2,9.2,9.3,9.9,10.0,9.6,9.9,9.9,9.5,9.2,9.6,9.6,10.3,9.7,11.0,9.8,10.2,9.2,9.55,9.9,9.9,9.9,10.1,9.6,9.4,9.6,9.8,9.9,9.8,9.4,11.2,11.0,11.3,10.4,8.5,11.1,10.3,9.8,11.7,9.8,9.7,9.7,9.0,9.0,10.5,9.7,9.7,9.7,12.6,11.0,8.8,8.8,10.6,10.6,10.7,9.7,10.3,10.6,11.4,11.4,11.95,9.7,9.7,9.6,9.4,9.8,11.1,9.8,10.6,10.5,10.2,10.6,10.4,9.7,10.2,9.0,12.0,9.9,10.2,12.1,10.4,9.5,9.4,9.4,9.9,9.5,9.9,9.9,9.9,10.1,10.1,10.1,10.1,9.2,9.5,11.3,11.3,11.9,9.8,9.2,10.5,10.2],\"xaxis\":\"x6\",\"yaxis\":\"y6\",\"type\":\"histogram\"},{\"alignmentgroup\":\"True\",\"bingroup\":\"x\",\"hovertemplate\":\"quality=6<br>alcohol=%{x}<br>count=%{y}<extra></extra>\",\"legendgroup\":\"\",\"marker\":{\"color\":\"#636efa\",\"pattern\":{\"shape\":\"\"}},\"name\":\"\",\"offsetgroup\":\"\",\"orientation\":\"v\",\"showlegend\":false,\"x\":[9.8,9.2,9.4,9.7,9.8,10.6,9.4,9.6,10.8,10.5,9.4,9.4,10.2,9.4,10.5,9.5,10.7,10.3,9.9,9.9,12.9,9.0,10.2,10.4,9.0,9.6,9.7,10.5,10.0,9.4,10.9,9.2,10.9,9.8,9.9,14.0,14.0,10.2,10.5,10.3,9.3,10.0,10.4,9.2,9.2,11.5,10.5,9.3,9.8,10.1,9.2,12.4,10.0,10.2,9.8,9.4,10.0,10.5,9.5,10.5,9.9,9.6,9.0,9.0,9.0,9.2,9.0,9.0,10.9,9.8,9.9,9.8,9.9,10.0,9.9,9.9,9.4,10.1,10.7,10.1,10.7,9.4,10.1,9.3,10.3,10.3,10.3,10.1,9.5,10.7,10.1,9.3,9.5,9.5,9.5,9.3,9.4,9.5,11.0,10.4,10.4,9.5,9.2,9.2,9.7,12.5,12.5,9.4,12.5,11.5,9.2,11.3,9.8,9.8,10.7,12.0,10.0,9.4,9.9,9.4,11.9,12.8,9.8,9.9,11.8,8.7,10.6,10.8,11.0,13.3,10.8,9.4,10.0,9.4,9.4,9.7,9.2,9.6,9.2,10.0,11.0,11.0,10.8,10.5,10.5,10.1,10.8,11.3,9.5,11.7,10.4,11.4,10.6,10.4,12.8,9.9,10.2,11.2,9.9,11.3,10.1,10.2,10.8,10.8,9.1,10.0,11.3,9.2,11.5,14.0,9.2,11.4,10.4,9.4,11.0,10.1,13.4,10.0,10.2,10.6,11.6,12.1,9.0,11.6,9.0,9.5,10.2,10.2,9.7,11.9,11.7,10.0,11.4,8.7,10.3,12.8,10.0,10.3,10.7,11.0,11.0,8.4,9.5,10.7,10.4,9.4,9.5,10.0,10.0,11.7,11.7,12.7,10.1,12.7,9.0,9.0,10.7,11.7,11.0,11.7,10.0,10.2,9.8,9.6,11.5,9.3,10.0,9.8,9.3,9.0,9.0,9.1,9.2,10.5,10.4,12.7,10.0,10.2,9.8,12.1,9.3,9.3,10.5,10.3,11.3,12.0,9.6,9.6,9.6,10.2,9.5,9.2,9.2,9.3,9.3,10.2,12.8,9.5,9.5,10.8,10.1,9.5,9.4,11.6,10.0,9.2,11.1,12.7,9.3,11.5,9.5,9.0,9.6,9.5,9.1,10.7,11.2,10.0,9.5,9.5,9.7,9.7,9.5,9.5,10.3,10.3,9.4,10.1,10.1,9.7,9.7,12.5,10.7,10.7,9.6,9.9,10.3,10.9,11.3,10.5,11.9,11.1,11.1,10.9,10.6,9.9,10.9,10.9,10.9,11.2,11.5,11.3,11.2,11.2,10.9,11.8,11.8,10.0,11.4,12.0,10.0,10.4,11.2,9.3,9.8,10.7,10.7,11.5,10.8,11.5,13.2,10.9,12.2,11.5,11.9,10.1,11.0,11.8,11.0,11.8,10.1,10.2,9.5,11.8,11.8,12.2,11.3,11.1,11.1,11.2,11.1,11.0,12.2,10.9,10.9,10.5,12.9,10.5,11.3,10.9,9.4,10.1,9.1,12.9,10.4,10.0,11.2,11.4,12.7,12.7,11.9,11.9,12.3,10.4,12.6,10.1,10.4,9.7,11.1,9.8,11.1,12.2,11.4,10.7,10.9,10.8,9.1,9.1,9.9,11.4,11.8,11.8,10.2,9.5,10.7,11.4,11.8,9.5,12.0,9.5,11.2,11.4,11.5,10.8,10.8,12.4,12.0,11.2,12.0,12.4,12.3,10.8,10.0,11.0,9.5,13.6,11.3,11.3,11.3,13.3,12.3,12.3,11.2,13.5,11.5,10.5,10.4,11.9,11.4,11.4,9.5,9.5,11.0,11.4,10.0,10.4,9.8,11.6,12.0,12.5,11.1,11.4,10.6,10.2,12.0,11.5,10.5,10.8,12.3,9.5,9.5,11.5,11.0,11.0,10.5,11.9,11.9,12.5,9.5,9.5,9.5,9.8,10.9,9.5,9.8,10.4,10.4,10.5,10.4,11.3,9.5,12.0,10.6,10.9,11.5,11.5,9.6,12.0,10.3,11.8,12.8,9.4,12.8,12.2,10.3,11.1,10.9,10.9,11.0,11.3,11.3,11.8,10.3,10.3,11.4,9.5,14.0,11.7,11.2,9.5,9.7,9.5,10.4,10.4,10.9,10.2,12.4,10.9,12.4,10.9,12.1,12.2,12.5,11.7,11.2,12.8,10.1,10.1,9.8,12.5,11.9,9.8,9.1,12.5,10.6,10.6,10.6,10.6,9.8,9.8,9.7,12.6,10.5,10.5,10.5,10.4,10.5,10.2,11.8,11.1,10.0333333333333,10.0333333333333,11.8,10.5,9.8,11.6,12.2,9.9,10.8,10.8,12.5,9.55,11.1,11.9,10.7,10.9,10.7,10.7,11.9,10.6,10.9,11.4,9.6,9.6,12.1,9.9,11.7,9.0,9.0,11.066666666666698,9.56666666666667,11.1,9.6,10.9,10.9,10.55,10.4,10.4,10.8,11.1,10.8,12.4,10.6,11.5,10.8,11.5,11.0,11.4,10.8,11.4,10.6,9.7,10.4,10.5,9.23333333333333,9.25,10.3,10.3,10.0,9.6,10.8,10.1,10.2,11.3,9.9,9.7,10.3,10.2,11.6,10.75,10.4,10.1,11.3,11.0,11.0,10.9,11.2,11.5,12.4,11.1,12.5,10.5,11.8,10.8,11.9,11.3,11.9,11.5,11.4,10.9,12.8,11.6,11.6,11.0,9.5,11.2,11.0,11.0],\"xaxis\":\"x5\",\"yaxis\":\"y5\",\"type\":\"histogram\"},{\"alignmentgroup\":\"True\",\"bingroup\":\"x\",\"hovertemplate\":\"quality=7<br>alcohol=%{x}<br>count=%{y}<extra></extra>\",\"legendgroup\":\"\",\"marker\":{\"color\":\"#636efa\",\"pattern\":{\"shape\":\"\"}},\"name\":\"\",\"offsetgroup\":\"\",\"orientation\":\"v\",\"showlegend\":false,\"x\":[10.0,9.5,10.5,9.7,9.5,10.5,13.0,10.3,10.8,10.8,10.5,12.2,9.2,9.2,10.5,10.2,10.5,9.9,10.5,10.6,10.6,11.5,11.5,11.5,11.7,12.2,9.8,12.3,11.7,10.4,10.0,10.0,12.0,11.8,12.0,10.0,13.0,10.8,11.7,11.8,12.3,11.0,12.3,11.0,11.2,11.6,12.5,11.2,11.2,10.8,13.3,13.4,12.0,12.0,10.9,10.8,12.5,10.8,11.4,11.8,11.8,12.0,9.9,10.7,10.6,10.5,12.2,10.2,10.1,11.2,10.5,10.8,12.9,12.8,12.5,12.8,14.0,11.0,11.7,11.7,11.2,12.1,11.7,11.3,10.6,11.1,11.8,11.8,12.1,12.5,12.5,10.8,10.8,10.8,10.8,12.2,11.0,12.0,12.9,12.4,12.5,10.0,9.7,12.1,11.1,12.0,12.4,11.9,11.9,11.9,12.4,11.2,12.1,11.3,11.9,11.6,12.1,11.3,11.4,12.8,12.8,11.5,10.6,11.7,12.8,12.8,11.7,11.7,12.0,12.3,12.6,10.5,10.5,11.5,11.0,10.6,12.5,12.6,10.9,12.7,12.1,11.6,12.1,12.5,10.9,10.9,11.1,10.2,12.3,12.3,11.6,9.9,9.9,12.0,12.5,11.7,12.3,11.3,13.6,11.2,11.8,11.8,12.8,11.8,12.9,11.1,11.8,12.4,12.7,12.4,11.2,11.0,11.0,11.0,11.0,11.2,13.6,11.5,11.0,10.2,11.3,12.4,12.1,10.1,11.3,11.3,11.0,11.6,11.9,10.0,10.0,13.566666666666698,13.6,10.0,11.7,10.9,11.2,10.55,11.6],\"xaxis\":\"x4\",\"yaxis\":\"y4\",\"type\":\"histogram\"},{\"alignmentgroup\":\"True\",\"bingroup\":\"x\",\"hovertemplate\":\"quality=4<br>alcohol=%{x}<br>count=%{y}<extra></extra>\",\"legendgroup\":\"\",\"marker\":{\"color\":\"#636efa\",\"pattern\":{\"shape\":\"\"}},\"name\":\"\",\"offsetgroup\":\"\",\"orientation\":\"v\",\"showlegend\":false,\"x\":[9.0,9.8,9.3,13.1,9.2,9.1,10.5,9.4,9.2,9.0,9.1,11.4,10.4,9.4,9.8,9.6,9.6,10.0,10.0,11.3,11.0,11.0,9.6,9.7,11.2,11.4,10.9,9.9,10.0,10.9,9.2,10.4,11.5,11.2,9.6,9.3,11.5,9.6,11.8,11.2,9.6,12.0,9.7,11.1,9.8,10.4,11.0,10.0,11.0,10.1,10.3,10.9,9.05],\"xaxis\":\"x3\",\"yaxis\":\"y3\",\"type\":\"histogram\"},{\"alignmentgroup\":\"True\",\"bingroup\":\"x\",\"hovertemplate\":\"quality=8<br>alcohol=%{x}<br>count=%{y}<extra></extra>\",\"legendgroup\":\"\",\"marker\":{\"color\":\"#636efa\",\"pattern\":{\"shape\":\"\"}},\"name\":\"\",\"offsetgroup\":\"\",\"orientation\":\"v\",\"showlegend\":false,\"x\":[12.8,12.6,12.9,9.8,13.4,11.7,11.0,11.0,14.0,12.7,12.5,11.8,13.1,11.7,14.0,10.0,11.3,11.4],\"xaxis\":\"x2\",\"yaxis\":\"y2\",\"type\":\"histogram\"},{\"alignmentgroup\":\"True\",\"bingroup\":\"x\",\"hovertemplate\":\"quality=3<br>alcohol=%{x}<br>count=%{y}<extra></extra>\",\"legendgroup\":\"\",\"marker\":{\"color\":\"#636efa\",\"pattern\":{\"shape\":\"\"}},\"name\":\"\",\"offsetgroup\":\"\",\"orientation\":\"v\",\"showlegend\":false,\"x\":[9.0,8.4,10.7,9.9,11.0,10.9,9.8,9.7,10.2,9.95],\"xaxis\":\"x\",\"yaxis\":\"y\",\"type\":\"histogram\"}],                        {\"template\":{\"data\":{\"bar\":[{\"error_x\":{\"color\":\"#2a3f5f\"},\"error_y\":{\"color\":\"#2a3f5f\"},\"marker\":{\"line\":{\"color\":\"#E5ECF6\",\"width\":0.5},\"pattern\":{\"fillmode\":\"overlay\",\"size\":10,\"solidity\":0.2}},\"type\":\"bar\"}],\"barpolar\":[{\"marker\":{\"line\":{\"color\":\"#E5ECF6\",\"width\":0.5},\"pattern\":{\"fillmode\":\"overlay\",\"size\":10,\"solidity\":0.2}},\"type\":\"barpolar\"}],\"carpet\":[{\"aaxis\":{\"endlinecolor\":\"#2a3f5f\",\"gridcolor\":\"white\",\"linecolor\":\"white\",\"minorgridcolor\":\"white\",\"startlinecolor\":\"#2a3f5f\"},\"baxis\":{\"endlinecolor\":\"#2a3f5f\",\"gridcolor\":\"white\",\"linecolor\":\"white\",\"minorgridcolor\":\"white\",\"startlinecolor\":\"#2a3f5f\"},\"type\":\"carpet\"}],\"choropleth\":[{\"colorbar\":{\"outlinewidth\":0,\"ticks\":\"\"},\"type\":\"choropleth\"}],\"contour\":[{\"colorbar\":{\"outlinewidth\":0,\"ticks\":\"\"},\"colorscale\":[[0.0,\"#0d0887\"],[0.1111111111111111,\"#46039f\"],[0.2222222222222222,\"#7201a8\"],[0.3333333333333333,\"#9c179e\"],[0.4444444444444444,\"#bd3786\"],[0.5555555555555556,\"#d8576b\"],[0.6666666666666666,\"#ed7953\"],[0.7777777777777778,\"#fb9f3a\"],[0.8888888888888888,\"#fdca26\"],[1.0,\"#f0f921\"]],\"type\":\"contour\"}],\"contourcarpet\":[{\"colorbar\":{\"outlinewidth\":0,\"ticks\":\"\"},\"type\":\"contourcarpet\"}],\"heatmap\":[{\"colorbar\":{\"outlinewidth\":0,\"ticks\":\"\"},\"colorscale\":[[0.0,\"#0d0887\"],[0.1111111111111111,\"#46039f\"],[0.2222222222222222,\"#7201a8\"],[0.3333333333333333,\"#9c179e\"],[0.4444444444444444,\"#bd3786\"],[0.5555555555555556,\"#d8576b\"],[0.6666666666666666,\"#ed7953\"],[0.7777777777777778,\"#fb9f3a\"],[0.8888888888888888,\"#fdca26\"],[1.0,\"#f0f921\"]],\"type\":\"heatmap\"}],\"heatmapgl\":[{\"colorbar\":{\"outlinewidth\":0,\"ticks\":\"\"},\"colorscale\":[[0.0,\"#0d0887\"],[0.1111111111111111,\"#46039f\"],[0.2222222222222222,\"#7201a8\"],[0.3333333333333333,\"#9c179e\"],[0.4444444444444444,\"#bd3786\"],[0.5555555555555556,\"#d8576b\"],[0.6666666666666666,\"#ed7953\"],[0.7777777777777778,\"#fb9f3a\"],[0.8888888888888888,\"#fdca26\"],[1.0,\"#f0f921\"]],\"type\":\"heatmapgl\"}],\"histogram\":[{\"marker\":{\"pattern\":{\"fillmode\":\"overlay\",\"size\":10,\"solidity\":0.2}},\"type\":\"histogram\"}],\"histogram2d\":[{\"colorbar\":{\"outlinewidth\":0,\"ticks\":\"\"},\"colorscale\":[[0.0,\"#0d0887\"],[0.1111111111111111,\"#46039f\"],[0.2222222222222222,\"#7201a8\"],[0.3333333333333333,\"#9c179e\"],[0.4444444444444444,\"#bd3786\"],[0.5555555555555556,\"#d8576b\"],[0.6666666666666666,\"#ed7953\"],[0.7777777777777778,\"#fb9f3a\"],[0.8888888888888888,\"#fdca26\"],[1.0,\"#f0f921\"]],\"type\":\"histogram2d\"}],\"histogram2dcontour\":[{\"colorbar\":{\"outlinewidth\":0,\"ticks\":\"\"},\"colorscale\":[[0.0,\"#0d0887\"],[0.1111111111111111,\"#46039f\"],[0.2222222222222222,\"#7201a8\"],[0.3333333333333333,\"#9c179e\"],[0.4444444444444444,\"#bd3786\"],[0.5555555555555556,\"#d8576b\"],[0.6666666666666666,\"#ed7953\"],[0.7777777777777778,\"#fb9f3a\"],[0.8888888888888888,\"#fdca26\"],[1.0,\"#f0f921\"]],\"type\":\"histogram2dcontour\"}],\"mesh3d\":[{\"colorbar\":{\"outlinewidth\":0,\"ticks\":\"\"},\"type\":\"mesh3d\"}],\"parcoords\":[{\"line\":{\"colorbar\":{\"outlinewidth\":0,\"ticks\":\"\"}},\"type\":\"parcoords\"}],\"pie\":[{\"automargin\":true,\"type\":\"pie\"}],\"scatter\":[{\"marker\":{\"colorbar\":{\"outlinewidth\":0,\"ticks\":\"\"}},\"type\":\"scatter\"}],\"scatter3d\":[{\"line\":{\"colorbar\":{\"outlinewidth\":0,\"ticks\":\"\"}},\"marker\":{\"colorbar\":{\"outlinewidth\":0,\"ticks\":\"\"}},\"type\":\"scatter3d\"}],\"scattercarpet\":[{\"marker\":{\"colorbar\":{\"outlinewidth\":0,\"ticks\":\"\"}},\"type\":\"scattercarpet\"}],\"scattergeo\":[{\"marker\":{\"colorbar\":{\"outlinewidth\":0,\"ticks\":\"\"}},\"type\":\"scattergeo\"}],\"scattergl\":[{\"marker\":{\"colorbar\":{\"outlinewidth\":0,\"ticks\":\"\"}},\"type\":\"scattergl\"}],\"scattermapbox\":[{\"marker\":{\"colorbar\":{\"outlinewidth\":0,\"ticks\":\"\"}},\"type\":\"scattermapbox\"}],\"scatterpolar\":[{\"marker\":{\"colorbar\":{\"outlinewidth\":0,\"ticks\":\"\"}},\"type\":\"scatterpolar\"}],\"scatterpolargl\":[{\"marker\":{\"colorbar\":{\"outlinewidth\":0,\"ticks\":\"\"}},\"type\":\"scatterpolargl\"}],\"scatterternary\":[{\"marker\":{\"colorbar\":{\"outlinewidth\":0,\"ticks\":\"\"}},\"type\":\"scatterternary\"}],\"surface\":[{\"colorbar\":{\"outlinewidth\":0,\"ticks\":\"\"},\"colorscale\":[[0.0,\"#0d0887\"],[0.1111111111111111,\"#46039f\"],[0.2222222222222222,\"#7201a8\"],[0.3333333333333333,\"#9c179e\"],[0.4444444444444444,\"#bd3786\"],[0.5555555555555556,\"#d8576b\"],[0.6666666666666666,\"#ed7953\"],[0.7777777777777778,\"#fb9f3a\"],[0.8888888888888888,\"#fdca26\"],[1.0,\"#f0f921\"]],\"type\":\"surface\"}],\"table\":[{\"cells\":{\"fill\":{\"color\":\"#EBF0F8\"},\"line\":{\"color\":\"white\"}},\"header\":{\"fill\":{\"color\":\"#C8D4E3\"},\"line\":{\"color\":\"white\"}},\"type\":\"table\"}]},\"layout\":{\"annotationdefaults\":{\"arrowcolor\":\"#2a3f5f\",\"arrowhead\":0,\"arrowwidth\":1},\"autotypenumbers\":\"strict\",\"coloraxis\":{\"colorbar\":{\"outlinewidth\":0,\"ticks\":\"\"}},\"colorscale\":{\"diverging\":[[0,\"#8e0152\"],[0.1,\"#c51b7d\"],[0.2,\"#de77ae\"],[0.3,\"#f1b6da\"],[0.4,\"#fde0ef\"],[0.5,\"#f7f7f7\"],[0.6,\"#e6f5d0\"],[0.7,\"#b8e186\"],[0.8,\"#7fbc41\"],[0.9,\"#4d9221\"],[1,\"#276419\"]],\"sequential\":[[0.0,\"#0d0887\"],[0.1111111111111111,\"#46039f\"],[0.2222222222222222,\"#7201a8\"],[0.3333333333333333,\"#9c179e\"],[0.4444444444444444,\"#bd3786\"],[0.5555555555555556,\"#d8576b\"],[0.6666666666666666,\"#ed7953\"],[0.7777777777777778,\"#fb9f3a\"],[0.8888888888888888,\"#fdca26\"],[1.0,\"#f0f921\"]],\"sequentialminus\":[[0.0,\"#0d0887\"],[0.1111111111111111,\"#46039f\"],[0.2222222222222222,\"#7201a8\"],[0.3333333333333333,\"#9c179e\"],[0.4444444444444444,\"#bd3786\"],[0.5555555555555556,\"#d8576b\"],[0.6666666666666666,\"#ed7953\"],[0.7777777777777778,\"#fb9f3a\"],[0.8888888888888888,\"#fdca26\"],[1.0,\"#f0f921\"]]},\"colorway\":[\"#636efa\",\"#EF553B\",\"#00cc96\",\"#ab63fa\",\"#FFA15A\",\"#19d3f3\",\"#FF6692\",\"#B6E880\",\"#FF97FF\",\"#FECB52\"],\"font\":{\"color\":\"#2a3f5f\"},\"geo\":{\"bgcolor\":\"white\",\"lakecolor\":\"white\",\"landcolor\":\"#E5ECF6\",\"showlakes\":true,\"showland\":true,\"subunitcolor\":\"white\"},\"hoverlabel\":{\"align\":\"left\"},\"hovermode\":\"closest\",\"mapbox\":{\"style\":\"light\"},\"paper_bgcolor\":\"white\",\"plot_bgcolor\":\"#E5ECF6\",\"polar\":{\"angularaxis\":{\"gridcolor\":\"white\",\"linecolor\":\"white\",\"ticks\":\"\"},\"bgcolor\":\"#E5ECF6\",\"radialaxis\":{\"gridcolor\":\"white\",\"linecolor\":\"white\",\"ticks\":\"\"}},\"scene\":{\"xaxis\":{\"backgroundcolor\":\"#E5ECF6\",\"gridcolor\":\"white\",\"gridwidth\":2,\"linecolor\":\"white\",\"showbackground\":true,\"ticks\":\"\",\"zerolinecolor\":\"white\"},\"yaxis\":{\"backgroundcolor\":\"#E5ECF6\",\"gridcolor\":\"white\",\"gridwidth\":2,\"linecolor\":\"white\",\"showbackground\":true,\"ticks\":\"\",\"zerolinecolor\":\"white\"},\"zaxis\":{\"backgroundcolor\":\"#E5ECF6\",\"gridcolor\":\"white\",\"gridwidth\":2,\"linecolor\":\"white\",\"showbackground\":true,\"ticks\":\"\",\"zerolinecolor\":\"white\"}},\"shapedefaults\":{\"line\":{\"color\":\"#2a3f5f\"}},\"ternary\":{\"aaxis\":{\"gridcolor\":\"white\",\"linecolor\":\"white\",\"ticks\":\"\"},\"baxis\":{\"gridcolor\":\"white\",\"linecolor\":\"white\",\"ticks\":\"\"},\"bgcolor\":\"#E5ECF6\",\"caxis\":{\"gridcolor\":\"white\",\"linecolor\":\"white\",\"ticks\":\"\"}},\"title\":{\"x\":0.05},\"xaxis\":{\"automargin\":true,\"gridcolor\":\"white\",\"linecolor\":\"white\",\"ticks\":\"\",\"title\":{\"standoff\":15},\"zerolinecolor\":\"white\",\"zerolinewidth\":2},\"yaxis\":{\"automargin\":true,\"gridcolor\":\"white\",\"linecolor\":\"white\",\"ticks\":\"\",\"title\":{\"standoff\":15},\"zerolinecolor\":\"white\",\"zerolinewidth\":2}}},\"xaxis\":{\"anchor\":\"y\",\"domain\":[0.0,0.98],\"title\":{\"text\":\"alcohol\"}},\"yaxis\":{\"anchor\":\"x\",\"domain\":[0.0,0.14166666666666666],\"title\":{\"text\":\"count\"}},\"xaxis2\":{\"anchor\":\"y2\",\"domain\":[0.0,0.98],\"matches\":\"x\",\"showticklabels\":false},\"yaxis2\":{\"anchor\":\"x2\",\"domain\":[0.17166666666666666,0.31333333333333335],\"matches\":\"y\",\"title\":{\"text\":\"count\"}},\"xaxis3\":{\"anchor\":\"y3\",\"domain\":[0.0,0.98],\"matches\":\"x\",\"showticklabels\":false},\"yaxis3\":{\"anchor\":\"x3\",\"domain\":[0.3433333333333333,0.485],\"matches\":\"y\",\"title\":{\"text\":\"count\"}},\"xaxis4\":{\"anchor\":\"y4\",\"domain\":[0.0,0.98],\"matches\":\"x\",\"showticklabels\":false},\"yaxis4\":{\"anchor\":\"x4\",\"domain\":[0.515,0.6566666666666667],\"matches\":\"y\",\"title\":{\"text\":\"count\"}},\"xaxis5\":{\"anchor\":\"y5\",\"domain\":[0.0,0.98],\"matches\":\"x\",\"showticklabels\":false},\"yaxis5\":{\"anchor\":\"x5\",\"domain\":[0.6866666666666666,0.8283333333333334],\"matches\":\"y\",\"title\":{\"text\":\"count\"}},\"xaxis6\":{\"anchor\":\"y6\",\"domain\":[0.0,0.98],\"matches\":\"x\",\"showticklabels\":false},\"yaxis6\":{\"anchor\":\"x6\",\"domain\":[0.8583333333333333,1.0],\"matches\":\"y\",\"title\":{\"text\":\"count\"}},\"annotations\":[{\"font\":{},\"showarrow\":false,\"text\":\"quality=3\",\"textangle\":90,\"x\":0.98,\"xanchor\":\"left\",\"xref\":\"paper\",\"y\":0.07083333333333333,\"yanchor\":\"middle\",\"yref\":\"paper\"},{\"font\":{},\"showarrow\":false,\"text\":\"quality=8\",\"textangle\":90,\"x\":0.98,\"xanchor\":\"left\",\"xref\":\"paper\",\"y\":0.2425,\"yanchor\":\"middle\",\"yref\":\"paper\"},{\"font\":{},\"showarrow\":false,\"text\":\"quality=4\",\"textangle\":90,\"x\":0.98,\"xanchor\":\"left\",\"xref\":\"paper\",\"y\":0.4141666666666667,\"yanchor\":\"middle\",\"yref\":\"paper\"},{\"font\":{},\"showarrow\":false,\"text\":\"quality=7\",\"textangle\":90,\"x\":0.98,\"xanchor\":\"left\",\"xref\":\"paper\",\"y\":0.5858333333333334,\"yanchor\":\"middle\",\"yref\":\"paper\"},{\"font\":{},\"showarrow\":false,\"text\":\"quality=6\",\"textangle\":90,\"x\":0.98,\"xanchor\":\"left\",\"xref\":\"paper\",\"y\":0.7575000000000001,\"yanchor\":\"middle\",\"yref\":\"paper\"},{\"font\":{},\"showarrow\":false,\"text\":\"quality=5\",\"textangle\":90,\"x\":0.98,\"xanchor\":\"left\",\"xref\":\"paper\",\"y\":0.9291666666666667,\"yanchor\":\"middle\",\"yref\":\"paper\"}],\"legend\":{\"tracegroupgap\":0},\"margin\":{\"t\":60},\"barmode\":\"relative\"},                        {\"responsive\": true}                    ).then(function(){\n",
       "                            \n",
       "var gd = document.getElementById('c1480fbe-0d5d-48ac-95f0-dce993ae6456');\n",
       "var x = new MutationObserver(function (mutations, observer) {{\n",
       "        var display = window.getComputedStyle(gd).display;\n",
       "        if (!display || display === 'none') {{\n",
       "            console.log([gd, 'removed!']);\n",
       "            Plotly.purge(gd);\n",
       "            observer.disconnect();\n",
       "        }}\n",
       "}});\n",
       "\n",
       "// Listen for the removal of the full notebook cells\n",
       "var notebookContainer = gd.closest('#notebook-container');\n",
       "if (notebookContainer) {{\n",
       "    x.observe(notebookContainer, {childList: true});\n",
       "}}\n",
       "\n",
       "// Listen for the clearing of the current output cell\n",
       "var outputEl = gd.closest('.output');\n",
       "if (outputEl) {{\n",
       "    x.observe(outputEl, {childList: true});\n",
       "}}\n",
       "\n",
       "                        })                };                });            </script>        </div>"
      ]
     },
     "metadata": {},
     "output_type": "display_data"
    }
   ],
   "source": [
    "px.histogram(data_frame=df,x=\"alcohol\",facet_row=\"quality\")"
   ]
  },
  {
   "cell_type": "code",
   "execution_count": 12,
   "metadata": {},
   "outputs": [
    {
     "data": {
      "image/png": "[encoded data removed]",
      "text/plain": [
       "<Figure size 720x720 with 2 Axes>"
      ]
     },
     "metadata": {
      "needs_background": "light"
     },
     "output_type": "display_data"
    }
   ],
   "source": [
    "plt.figure(figsize=(10,10))\n",
    "sns.heatmap(df.corr(),annot=True)\n",
    "plt.show()"
   ]
  }
 ],
 "metadata": {
  "kernelspec": {
   "display_name": "Python 3 (ipykernel)",
   "language": "python",
   "name": "python3"
  },
  "language_info": {
   "codemirror_mode": {
    "name": "ipython",
    "version": 3
   },
   "file_extension": ".py",
   "mimetype": "text/x-python",
   "name": "python",
   "nbconvert_exporter": "python",
   "pygments_lexer": "ipython3",
   "version": "3.7.1"
  }
 },
 "nbformat": 4,
 "nbformat_minor": 2
}
